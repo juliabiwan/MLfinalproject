{
  "nbformat": 4,
  "nbformat_minor": 0,
  "metadata": {
    "colab": {
      "provenance": []
    },
    "kernelspec": {
      "name": "python3",
      "display_name": "Python 3"
    },
    "language_info": {
      "name": "python"
    }
  },
  "cells": [
    {
      "cell_type": "code",
      "source": [
        "#Milestone 1"
      ],
      "metadata": {
        "id": "wlsx97wsIGmW"
      },
      "execution_count": null,
      "outputs": []
    },
    {
      "cell_type": "code",
      "execution_count": 1,
      "metadata": {
        "id": "KviYgz6_X018"
      },
      "outputs": [],
      "source": [
        "import pandas as pd"
      ]
    },
    {
      "cell_type": "code",
      "source": [
        "file_path = '/content/imdb_top_1000.csv.xls'\n",
        "movies_df = pd.read_csv(file_path)"
      ],
      "metadata": {
        "id": "3vD2BiMoYHcg"
      },
      "execution_count": 4,
      "outputs": []
    },
    {
      "cell_type": "code",
      "source": [
        "print(movies_df.info())\n",
        "print(movies_df.head())"
      ],
      "metadata": {
        "colab": {
          "base_uri": "https://localhost:8080/"
        },
        "id": "QhgRKLACYK7K",
        "outputId": "891f24ab-36a8-4eeb-ee3d-47c46e2f3cc4"
      },
      "execution_count": null,
      "outputs": [
        {
          "output_type": "stream",
          "name": "stdout",
          "text": [
            "<class 'pandas.core.frame.DataFrame'>\n",
            "RangeIndex: 1000 entries, 0 to 999\n",
            "Data columns (total 16 columns):\n",
            " #   Column         Non-Null Count  Dtype  \n",
            "---  ------         --------------  -----  \n",
            " 0   Poster_Link    1000 non-null   object \n",
            " 1   Series_Title   1000 non-null   object \n",
            " 2   Released_Year  1000 non-null   object \n",
            " 3   Certificate    899 non-null    object \n",
            " 4   Runtime        1000 non-null   object \n",
            " 5   Genre          1000 non-null   object \n",
            " 6   IMDB_Rating    1000 non-null   float64\n",
            " 7   Overview       1000 non-null   object \n",
            " 8   Meta_score     843 non-null    float64\n",
            " 9   Director       1000 non-null   object \n",
            " 10  Star1          1000 non-null   object \n",
            " 11  Star2          1000 non-null   object \n",
            " 12  Star3          1000 non-null   object \n",
            " 13  Star4          1000 non-null   object \n",
            " 14  No_of_Votes    1000 non-null   int64  \n",
            " 15  Gross          831 non-null    object \n",
            "dtypes: float64(2), int64(1), object(13)\n",
            "memory usage: 125.1+ KB\n",
            "None\n",
            "                                         Poster_Link  \\\n",
            "0  https://m.media-amazon.com/images/M/MV5BMDFkYT...   \n",
            "1  https://m.media-amazon.com/images/M/MV5BM2MyNj...   \n",
            "2  https://m.media-amazon.com/images/M/MV5BMTMxNT...   \n",
            "3  https://m.media-amazon.com/images/M/MV5BMWMwMG...   \n",
            "4  https://m.media-amazon.com/images/M/MV5BMWU4N2...   \n",
            "\n",
            "               Series_Title Released_Year Certificate  Runtime  \\\n",
            "0  The Shawshank Redemption          1994           A  142 min   \n",
            "1             The Godfather          1972           A  175 min   \n",
            "2           The Dark Knight          2008          UA  152 min   \n",
            "3    The Godfather: Part II          1974           A  202 min   \n",
            "4              12 Angry Men          1957           U   96 min   \n",
            "\n",
            "                  Genre  IMDB_Rating  \\\n",
            "0                 Drama          9.3   \n",
            "1          Crime, Drama          9.2   \n",
            "2  Action, Crime, Drama          9.0   \n",
            "3          Crime, Drama          9.0   \n",
            "4          Crime, Drama          9.0   \n",
            "\n",
            "                                            Overview  Meta_score  \\\n",
            "0  Two imprisoned men bond over a number of years...        80.0   \n",
            "1  An organized crime dynasty's aging patriarch t...       100.0   \n",
            "2  When the menace known as the Joker wreaks havo...        84.0   \n",
            "3  The early life and career of Vito Corleone in ...        90.0   \n",
            "4  A jury holdout attempts to prevent a miscarria...        96.0   \n",
            "\n",
            "               Director           Star1           Star2          Star3  \\\n",
            "0        Frank Darabont     Tim Robbins  Morgan Freeman     Bob Gunton   \n",
            "1  Francis Ford Coppola   Marlon Brando       Al Pacino     James Caan   \n",
            "2     Christopher Nolan  Christian Bale    Heath Ledger  Aaron Eckhart   \n",
            "3  Francis Ford Coppola       Al Pacino  Robert De Niro  Robert Duvall   \n",
            "4          Sidney Lumet     Henry Fonda     Lee J. Cobb  Martin Balsam   \n",
            "\n",
            "            Star4  No_of_Votes        Gross  \n",
            "0  William Sadler      2343110   28,341,469  \n",
            "1    Diane Keaton      1620367  134,966,411  \n",
            "2   Michael Caine      2303232  534,858,444  \n",
            "3    Diane Keaton      1129952   57,300,000  \n",
            "4    John Fiedler       689845    4,360,000  \n"
          ]
        }
      ]
    },
    {
      "cell_type": "code",
      "source": [
        "relevant_columns = ['Series_Title', 'Genre', 'Director', 'IMDB_Rating']\n",
        "movies_df = movies_df[relevant_columns]"
      ],
      "metadata": {
        "id": "Tfs4UfDmYRDZ"
      },
      "execution_count": 5,
      "outputs": []
    },
    {
      "cell_type": "code",
      "source": [
        "print(movies_df.head())"
      ],
      "metadata": {
        "colab": {
          "base_uri": "https://localhost:8080/"
        },
        "id": "pQv3tVTTYryO",
        "outputId": "82a5c3a9-e923-4f8d-de7f-41e25ec0c505"
      },
      "execution_count": 6,
      "outputs": [
        {
          "output_type": "stream",
          "name": "stdout",
          "text": [
            "               Series_Title                 Genre              Director  \\\n",
            "0  The Shawshank Redemption                 Drama        Frank Darabont   \n",
            "1             The Godfather          Crime, Drama  Francis Ford Coppola   \n",
            "2           The Dark Knight  Action, Crime, Drama     Christopher Nolan   \n",
            "3    The Godfather: Part II          Crime, Drama  Francis Ford Coppola   \n",
            "4              12 Angry Men          Crime, Drama          Sidney Lumet   \n",
            "\n",
            "   IMDB_Rating  \n",
            "0          9.3  \n",
            "1          9.2  \n",
            "2          9.0  \n",
            "3          9.0  \n",
            "4          9.0  \n"
          ]
        }
      ]
    },
    {
      "cell_type": "code",
      "source": [
        "movies_df['Genre'].fillna('Unknown', inplace=True)\n",
        "movies_df['Director'].fillna('Unknown', inplace=True)"
      ],
      "metadata": {
        "colab": {
          "base_uri": "https://localhost:8080/"
        },
        "id": "SnrEhxHhYyp6",
        "outputId": "bb9727c3-4259-4dbc-97a8-4170a97ef4ec"
      },
      "execution_count": 7,
      "outputs": [
        {
          "output_type": "stream",
          "name": "stderr",
          "text": [
            "<ipython-input-7-6fa4672f13bf>:1: FutureWarning: A value is trying to be set on a copy of a DataFrame or Series through chained assignment using an inplace method.\n",
            "The behavior will change in pandas 3.0. This inplace method will never work because the intermediate object on which we are setting values always behaves as a copy.\n",
            "\n",
            "For example, when doing 'df[col].method(value, inplace=True)', try using 'df.method({col: value}, inplace=True)' or df[col] = df[col].method(value) instead, to perform the operation inplace on the original object.\n",
            "\n",
            "\n",
            "  movies_df['Genre'].fillna('Unknown', inplace=True)\n",
            "<ipython-input-7-6fa4672f13bf>:2: FutureWarning: A value is trying to be set on a copy of a DataFrame or Series through chained assignment using an inplace method.\n",
            "The behavior will change in pandas 3.0. This inplace method will never work because the intermediate object on which we are setting values always behaves as a copy.\n",
            "\n",
            "For example, when doing 'df[col].method(value, inplace=True)', try using 'df.method({col: value}, inplace=True)' or df[col] = df[col].method(value) instead, to perform the operation inplace on the original object.\n",
            "\n",
            "\n",
            "  movies_df['Director'].fillna('Unknown', inplace=True)\n"
          ]
        }
      ]
    },
    {
      "cell_type": "code",
      "source": [
        "movies_df.drop_duplicates(subset=['Series_Title'], inplace=True)"
      ],
      "metadata": {
        "id": "GQsiuziQY-me"
      },
      "execution_count": 8,
      "outputs": []
    },
    {
      "cell_type": "code",
      "source": [
        "print(movies_df.info())"
      ],
      "metadata": {
        "colab": {
          "base_uri": "https://localhost:8080/"
        },
        "id": "qG-_Au5sZGYt",
        "outputId": "3acf3699-80aa-4f1c-9988-f62a38c7fd35"
      },
      "execution_count": 9,
      "outputs": [
        {
          "output_type": "stream",
          "name": "stdout",
          "text": [
            "<class 'pandas.core.frame.DataFrame'>\n",
            "Index: 999 entries, 0 to 999\n",
            "Data columns (total 4 columns):\n",
            " #   Column        Non-Null Count  Dtype  \n",
            "---  ------        --------------  -----  \n",
            " 0   Series_Title  999 non-null    object \n",
            " 1   Genre         999 non-null    object \n",
            " 2   Director      999 non-null    object \n",
            " 3   IMDB_Rating   999 non-null    float64\n",
            "dtypes: float64(1), object(3)\n",
            "memory usage: 39.0+ KB\n",
            "None\n"
          ]
        }
      ]
    },
    {
      "cell_type": "code",
      "source": [
        "import numpy as np"
      ],
      "metadata": {
        "id": "HuKsJ1afZJ8p"
      },
      "execution_count": 10,
      "outputs": []
    },
    {
      "cell_type": "code",
      "source": [
        "top_100_movies = movies_df.sample(100, random_state=42)"
      ],
      "metadata": {
        "id": "zyiFb9glZNM2"
      },
      "execution_count": 11,
      "outputs": []
    },
    {
      "cell_type": "code",
      "source": [
        "user_ratings = {\n",
        "    'User_1': np.random.randint(1, 6, size=100),\n",
        "    'User_2': np.random.randint(1, 6, size=100),\n",
        "    'User_3': np.random.randint(1, 6, size=100),\n",
        "}"
      ],
      "metadata": {
        "id": "5fBT3bGjZPUk"
      },
      "execution_count": 12,
      "outputs": []
    },
    {
      "cell_type": "code",
      "source": [
        "ratings_df = pd.DataFrame(user_ratings)\n",
        "ratings_df['Series_Title'] = top_100_movies['Series_Title'].values"
      ],
      "metadata": {
        "id": "qAw1FStQZR-A"
      },
      "execution_count": 13,
      "outputs": []
    },
    {
      "cell_type": "code",
      "source": [
        "rated_movies = pd.merge(ratings_df, movies_df, on='Series_Title')"
      ],
      "metadata": {
        "id": "eo9Z60RRZbPQ"
      },
      "execution_count": 14,
      "outputs": []
    },
    {
      "cell_type": "code",
      "source": [
        "print(rated_movies.head())"
      ],
      "metadata": {
        "colab": {
          "base_uri": "https://localhost:8080/"
        },
        "id": "g6lN_JA-ZjTD",
        "outputId": "32713563-c910-49e4-ae6d-fe8c8e9772b6"
      },
      "execution_count": 15,
      "outputs": [
        {
          "output_type": "stream",
          "name": "stdout",
          "text": [
            "   User_1  User_2  User_3                 Series_Title  \\\n",
            "0       4       3       5  The Best Years of Our Lives   \n",
            "1       5       1       3    Hedwig and the Angry Inch   \n",
            "2       4       5       5                    Gone Girl   \n",
            "3       5       3       1                The Red Shoes   \n",
            "4       3       5       2              Le Petit Prince   \n",
            "\n",
            "                         Genre               Director  IMDB_Rating  \n",
            "0          Drama, Romance, War          William Wyler          8.0  \n",
            "1         Comedy, Drama, Music  John Cameron Mitchell          7.7  \n",
            "2     Drama, Mystery, Thriller          David Fincher          8.1  \n",
            "3        Drama, Music, Romance         Michael Powell          8.1  \n",
            "4  Animation, Adventure, Drama           Mark Osborne          7.7  \n"
          ]
        }
      ]
    },
    {
      "cell_type": "code",
      "source": [
        "movies_df.to_csv('preprocessed_movies.csv', index=False)\n",
        "rated_movies.to_csv('user_rated_movies.csv', index=False)"
      ],
      "metadata": {
        "id": "KbqSUfneZw7Y"
      },
      "execution_count": 16,
      "outputs": []
    },
    {
      "cell_type": "code",
      "source": [
        "print(\"Preprocessed data saved successfully!\")"
      ],
      "metadata": {
        "id": "3gMrby6sZzws",
        "outputId": "923063a4-8461-45f3-c3d3-1455e6cfae3a",
        "colab": {
          "base_uri": "https://localhost:8080/"
        }
      },
      "execution_count": 17,
      "outputs": [
        {
          "output_type": "stream",
          "name": "stdout",
          "text": [
            "Preprocessed data saved successfully!\n"
          ]
        }
      ]
    },
    {
      "cell_type": "code",
      "source": [
        "#Milestone 2"
      ],
      "metadata": {
        "id": "zZw0wnRLIKcQ"
      },
      "execution_count": null,
      "outputs": []
    },
    {
      "cell_type": "code",
      "source": [
        "!pip install scikit-surprise"
      ],
      "metadata": {
        "colab": {
          "base_uri": "https://localhost:8080/"
        },
        "id": "2Zg_-lcPKnZD",
        "outputId": "3b590a4f-eb40-4af2-9a2e-066e36ecc0ce"
      },
      "execution_count": 19,
      "outputs": [
        {
          "output_type": "stream",
          "name": "stdout",
          "text": [
            "Collecting scikit-surprise\n",
            "  Downloading scikit_surprise-1.1.4.tar.gz (154 kB)\n",
            "\u001b[?25l     \u001b[90m━━━━━━━━━━━━━━━━━━━━━━━━━━━━━━━━━━━━━━━━\u001b[0m \u001b[32m0.0/154.4 kB\u001b[0m \u001b[31m?\u001b[0m eta \u001b[36m-:--:--\u001b[0m\r\u001b[2K     \u001b[91m━━━━━━━━━━━━━━━━━━━━━━━━━━━━━━━━━━━━━\u001b[0m\u001b[90m╺\u001b[0m\u001b[90m━━\u001b[0m \u001b[32m143.4/154.4 kB\u001b[0m \u001b[31m4.1 MB/s\u001b[0m eta \u001b[36m0:00:01\u001b[0m\r\u001b[2K     \u001b[90m━━━━━━━━━━━━━━━━━━━━━━━━━━━━━━━━━━━━━━━━\u001b[0m \u001b[32m154.4/154.4 kB\u001b[0m \u001b[31m3.0 MB/s\u001b[0m eta \u001b[36m0:00:00\u001b[0m\n",
            "\u001b[?25h  Installing build dependencies ... \u001b[?25l\u001b[?25hdone\n",
            "  Getting requirements to build wheel ... \u001b[?25l\u001b[?25hdone\n",
            "  Preparing metadata (pyproject.toml) ... \u001b[?25l\u001b[?25hdone\n",
            "Requirement already satisfied: joblib>=1.2.0 in /usr/local/lib/python3.11/dist-packages (from scikit-surprise) (1.4.2)\n",
            "Requirement already satisfied: numpy>=1.19.5 in /usr/local/lib/python3.11/dist-packages (from scikit-surprise) (1.26.4)\n",
            "Requirement already satisfied: scipy>=1.6.0 in /usr/local/lib/python3.11/dist-packages (from scikit-surprise) (1.13.1)\n",
            "Building wheels for collected packages: scikit-surprise\n",
            "  Building wheel for scikit-surprise (pyproject.toml) ... \u001b[?25l\u001b[?25hdone\n",
            "  Created wheel for scikit-surprise: filename=scikit_surprise-1.1.4-cp311-cp311-linux_x86_64.whl size=2505173 sha256=4e27674b9ad0045ba052ccede25dd0b053be9a0d5fb8490ef3469481a550df6c\n",
            "  Stored in directory: /root/.cache/pip/wheels/2a/8f/6e/7e2899163e2d85d8266daab4aa1cdabec7a6c56f83c015b5af\n",
            "Successfully built scikit-surprise\n",
            "Installing collected packages: scikit-surprise\n",
            "Successfully installed scikit-surprise-1.1.4\n"
          ]
        }
      ]
    },
    {
      "cell_type": "code",
      "source": [
        "movies_df = pd.read_csv('preprocessed_movies.csv')\n",
        "rated_movies = pd.read_csv('user_rated_movies.csv')\n",
        "print(movies_df.head())\n",
        "print(rated_movies.head())"
      ],
      "metadata": {
        "colab": {
          "base_uri": "https://localhost:8080/"
        },
        "id": "SyFGnjuJIKKS",
        "outputId": "b8e2a5f2-c2f8-4ee6-a3b7-48bbf4220af9"
      },
      "execution_count": 25,
      "outputs": [
        {
          "output_type": "stream",
          "name": "stdout",
          "text": [
            "               Series_Title                 Genre              Director  \\\n",
            "0  The Shawshank Redemption                 Drama        Frank Darabont   \n",
            "1             The Godfather          Crime, Drama  Francis Ford Coppola   \n",
            "2           The Dark Knight  Action, Crime, Drama     Christopher Nolan   \n",
            "3    The Godfather: Part II          Crime, Drama  Francis Ford Coppola   \n",
            "4              12 Angry Men          Crime, Drama          Sidney Lumet   \n",
            "\n",
            "   IMDB_Rating  \n",
            "0          9.3  \n",
            "1          9.2  \n",
            "2          9.0  \n",
            "3          9.0  \n",
            "4          9.0  \n",
            "   User_1  User_2  User_3                 Series_Title  \\\n",
            "0       4       3       5  The Best Years of Our Lives   \n",
            "1       5       1       3    Hedwig and the Angry Inch   \n",
            "2       4       5       5                    Gone Girl   \n",
            "3       5       3       1                The Red Shoes   \n",
            "4       3       5       2              Le Petit Prince   \n",
            "\n",
            "                         Genre               Director  IMDB_Rating  \n",
            "0          Drama, Romance, War          William Wyler          8.0  \n",
            "1         Comedy, Drama, Music  John Cameron Mitchell          7.7  \n",
            "2     Drama, Mystery, Thriller          David Fincher          8.1  \n",
            "3        Drama, Music, Romance         Michael Powell          8.1  \n",
            "4  Animation, Adventure, Drama           Mark Osborne          7.7  \n"
          ]
        }
      ]
    },
    {
      "cell_type": "code",
      "source": [
        "ratings_melted = rated_movies.melt(id_vars=['Series_Title'],\n",
        "                                   var_name='User',\n",
        "                                   value_name='Rating')\n",
        "print(ratings_melted.head())"
      ],
      "metadata": {
        "colab": {
          "base_uri": "https://localhost:8080/"
        },
        "id": "YKW53cdvK-PE",
        "outputId": "4756d056-479c-4adc-a9cb-ee6752eeec9d"
      },
      "execution_count": 26,
      "outputs": [
        {
          "output_type": "stream",
          "name": "stdout",
          "text": [
            "                  Series_Title    User Rating\n",
            "0  The Best Years of Our Lives  User_1      4\n",
            "1    Hedwig and the Angry Inch  User_1      5\n",
            "2                    Gone Girl  User_1      4\n",
            "3                The Red Shoes  User_1      5\n",
            "4              Le Petit Prince  User_1      3\n"
          ]
        }
      ]
    },
    {
      "cell_type": "code",
      "source": [
        "ratings_data = rated_movies[['Series_Title', 'IMDB_Rating', 'User_1', 'User_2', 'User_3']]\n",
        "long_format_ratings = ratings_data.melt(id_vars=['Series_Title', 'IMDB_Rating'],\n",
        "                                        var_name='User_ID',\n",
        "                                        value_name='Rating')\n",
        "from sklearn.preprocessing import LabelEncoder\n",
        "encoder = LabelEncoder()\n",
        "long_format_ratings['Series_Title'] = encoder.fit_transform(long_format_ratings['Series_Title'])\n",
        "print(long_format_ratings.head())"
      ],
      "metadata": {
        "colab": {
          "base_uri": "https://localhost:8080/"
        },
        "id": "CUoAVc2hWUPw",
        "outputId": "1e0c90fa-6fd0-4b14-d07c-19c464010cd7"
      },
      "execution_count": 31,
      "outputs": [
        {
          "output_type": "stream",
          "name": "stdout",
          "text": [
            "   Series_Title  IMDB_Rating User_ID  Rating\n",
            "0            75          8.0  User_1       4\n",
            "1            34          7.7  User_1       5\n",
            "2            31          8.1  User_1       4\n",
            "3            86          8.1  User_1       5\n",
            "4            45          7.7  User_1       3\n"
          ]
        }
      ]
    },
    {
      "cell_type": "code",
      "source": [
        "from surprise import Dataset, Reader\n",
        "from surprise import SVD\n",
        "from surprise.model_selection import train_test_split\n",
        "from surprise import accuracy\n",
        "reader = Reader(rating_scale=(1, 10))\n",
        "data = Dataset.load_from_df(long_format_ratings[['User_ID', 'Series_Title', 'Rating']], reader)\n",
        "trainset, testset = train_test_split(data, test_size=0.2, random_state=42)\n",
        "svd = SVD()\n",
        "svd.fit(trainset)\n",
        "predictions = svd.test(testset)\n",
        "rmse = accuracy.rmse(predictions)\n",
        "print(f'RMSE: {rmse}')"
      ],
      "metadata": {
        "colab": {
          "base_uri": "https://localhost:8080/"
        },
        "id": "uLc2xfoEZkmi",
        "outputId": "94acf542-1492-445a-d0dd-01c42215c289"
      },
      "execution_count": 33,
      "outputs": [
        {
          "output_type": "stream",
          "name": "stdout",
          "text": [
            "RMSE: 1.4180\n",
            "RMSE: 1.4179645772598093\n"
          ]
        }
      ]
    },
    {
      "cell_type": "code",
      "source": [
        "from surprise import KNNBasic\n",
        "from surprise import Reader, Dataset\n",
        "from surprise.model_selection import train_test_split\n",
        "from surprise import accuracy"
      ],
      "metadata": {
        "id": "FFpJhYJPZyn9"
      },
      "execution_count": 36,
      "outputs": []
    },
    {
      "cell_type": "code",
      "source": [
        "sim_options = {'name': 'cosine', 'user_based': False}\n",
        "item_based_model = KNNBasic(sim_options=sim_options)\n",
        "item_based_model.fit(trainset)\n",
        "predictions = item_based_model.test(testset)\n",
        "item_based_rmse = accuracy.rmse(predictions)\n",
        "print(f'Item-based Collaborative Filtering RMSE: {item_based_rmse}')"
      ],
      "metadata": {
        "colab": {
          "base_uri": "https://localhost:8080/"
        },
        "id": "pBovPiVnahF5",
        "outputId": "212a8c7e-e6e7-4eac-98fc-b8df3d0e6af5"
      },
      "execution_count": 37,
      "outputs": [
        {
          "output_type": "stream",
          "name": "stdout",
          "text": [
            "Computing the cosine similarity matrix...\n",
            "Done computing similarity matrix.\n",
            "RMSE: 1.4541\n",
            "Item-based Collaborative Filtering RMSE: 1.4540586351146827\n"
          ]
        }
      ]
    },
    {
      "cell_type": "code",
      "source": [
        "item_based_model = KNNBasic(sim_options={'user_based': False})\n",
        "item_based_model.fit(trainset)\n",
        "item_based_rmse = accuracy.rmse(item_based_model.test(testset))\n",
        "print(f'Item-based Collaborative Filtering RMSE: {item_based_rmse}')\n"
      ],
      "metadata": {
        "colab": {
          "base_uri": "https://localhost:8080/"
        },
        "id": "PqpAvuXpanvy",
        "outputId": "e53a2112-4ae5-4818-e083-6188a3f98911"
      },
      "execution_count": 39,
      "outputs": [
        {
          "output_type": "stream",
          "name": "stdout",
          "text": [
            "Computing the msd similarity matrix...\n",
            "Done computing similarity matrix.\n",
            "RMSE: 1.4841\n",
            "Item-based Collaborative Filtering RMSE: 1.4840999092837164\n"
          ]
        }
      ]
    },
    {
      "cell_type": "code",
      "source": [
        "from surprise import KNNBasic\n",
        "from surprise import Reader, Dataset\n",
        "from surprise.model_selection import train_test_split\n",
        "from surprise import accuracy\n",
        "reader = Reader(rating_scale=(1, 10))\n",
        "data = Dataset.load_from_df(long_format_ratings[['User_ID', 'Series_Title', 'Rating']], reader)\n",
        "trainset, testset = train_test_split(data, test_size=0.2, random_state=42)\n",
        "sim_options = {'name': 'cosine', 'user_based': True}\n",
        "user_based_model = KNNBasic(sim_options=sim_options)\n",
        "user_based_model.fit(trainset)\n",
        "predictions = user_based_model.test(testset)\n",
        "user_based_rmse = accuracy.rmse(predictions)\n",
        "print(f'User-based Collaborative Filtering RMSE: {user_based_rmse}')"
      ],
      "metadata": {
        "colab": {
          "base_uri": "https://localhost:8080/"
        },
        "id": "bFTk-SUVcmta",
        "outputId": "68306d41-ebb1-4219-8fe0-4ef4af273f7a"
      },
      "execution_count": 44,
      "outputs": [
        {
          "output_type": "stream",
          "name": "stdout",
          "text": [
            "Computing the cosine similarity matrix...\n",
            "Done computing similarity matrix.\n",
            "RMSE: 1.8838\n",
            "User-based Collaborative Filtering RMSE: 1.8838138978052124\n"
          ]
        }
      ]
    },
    {
      "cell_type": "code",
      "source": [
        "user_based_rmse = accuracy.rmse(user_based_model.test(testset))\n",
        "print(f'User-based Collaborative Filtering RMSE: {user_based_rmse}')\n",
        "item_based_rmse = accuracy.rmse(item_based_model.test(testset))\n",
        "print(f'Item-based Collaborative Filtering RMSE: {item_based_rmse}')"
      ],
      "metadata": {
        "colab": {
          "base_uri": "https://localhost:8080/"
        },
        "id": "GGn_2kuoctl6",
        "outputId": "e4dbf2d0-7221-4a76-9c57-04f6cbfec936"
      },
      "execution_count": 45,
      "outputs": [
        {
          "output_type": "stream",
          "name": "stdout",
          "text": [
            "RMSE: 1.8838\n",
            "User-based Collaborative Filtering RMSE: 1.8838138978052124\n",
            "RMSE: 1.4841\n",
            "Item-based Collaborative Filtering RMSE: 1.4840999092837164\n"
          ]
        }
      ]
    },
    {
      "cell_type": "code",
      "source": [
        "from surprise import SVD\n",
        "svd_model = SVD()\n",
        "svd_model.fit(trainset)\n",
        "svd_rmse = accuracy.rmse(svd_model.test(testset))\n",
        "print(f'SVD Collaborative Filtering RMSE: {svd_rmse}')"
      ],
      "metadata": {
        "colab": {
          "base_uri": "https://localhost:8080/"
        },
        "id": "gr4DxPxMdOoJ",
        "outputId": "c6576d3c-ecd8-4efe-99c9-9cca3f5a6842"
      },
      "execution_count": 47,
      "outputs": [
        {
          "output_type": "stream",
          "name": "stdout",
          "text": [
            "RMSE: 1.4506\n",
            "SVD Collaborative Filtering RMSE: 1.4505517536368875\n"
          ]
        }
      ]
    },
    {
      "cell_type": "code",
      "source": [
        "rated_movies = pd.merge(ratings_df, movies_df, on='Series_Title')\n",
        "def get_movie_recommendations(user_id, rated_movies, top_n=5):\n",
        "    all_movies = movies_df['Series_Title'].values\n",
        "    user_ratings = rated_movies[rated_movies[user_id] > 0]\n",
        "    rated_movies_list = user_ratings['Series_Title'].values\n",
        "    unrated_movies = [movie for movie in all_movies if movie not in rated_movies_list]\n",
        "\n",
        "    predictions = []\n",
        "    for movie in unrated_movies:\n",
        "        pred = svd_model.predict(user_id, movie)\n",
        "        predictions.append((movie, pred.est))\n",
        "    predictions.sort(key=lambda x: x[1], reverse=True)\n",
        "    top_movies = predictions[:top_n]\n",
        "\n",
        "    return top_movies\n",
        "user_id = 'User_1'\n",
        "top_movies = get_movie_recommendations(user_id, rated_movies, top_n=5)\n",
        "print(f\"Top 5 Movie Recommendations for {user_id}:\")\n",
        "for movie, rating in top_movies:\n",
        "    print(f\"{movie} (Predicted Rating: {rating:.2f})\")"
      ],
      "metadata": {
        "colab": {
          "base_uri": "https://localhost:8080/"
        },
        "id": "FpJUmJWadWat",
        "outputId": "163baeb2-edd7-4de7-a91f-a38c8e2007f2"
      },
      "execution_count": 51,
      "outputs": [
        {
          "output_type": "stream",
          "name": "stdout",
          "text": [
            "Top 5 Movie Recommendations for User_1:\n",
            "The Shawshank Redemption (Predicted Rating: 3.20)\n",
            "The Godfather (Predicted Rating: 3.20)\n",
            "The Dark Knight (Predicted Rating: 3.20)\n",
            "The Godfather: Part II (Predicted Rating: 3.20)\n",
            "12 Angry Men (Predicted Rating: 3.20)\n"
          ]
        }
      ]
    },
    {
      "cell_type": "code",
      "source": [
        "print(f'SVD Collaborative Filtering RMSE: {svd_rmse}')\n",
        "print(f'User-based Collaborative Filtering RMSE: {user_based_rmse}')\n",
        "print(f'Item-based Collaborative Filtering RMSE: {item_based_rmse}')"
      ],
      "metadata": {
        "colab": {
          "base_uri": "https://localhost:8080/"
        },
        "id": "WqbbLrtegpWA",
        "outputId": "a74c07ca-8a59-44b4-975a-cfd41c5a66c6"
      },
      "execution_count": 52,
      "outputs": [
        {
          "output_type": "stream",
          "name": "stdout",
          "text": [
            "SVD Collaborative Filtering RMSE: 1.4505517536368875\n",
            "User-based Collaborative Filtering RMSE: 1.8838138978052124\n",
            "Item-based Collaborative Filtering RMSE: 1.4840999092837164\n"
          ]
        }
      ]
    },
    {
      "cell_type": "code",
      "source": [],
      "metadata": {
        "id": "iFiyi-sxg2-J"
      },
      "execution_count": null,
      "outputs": []
    }
  ]
}