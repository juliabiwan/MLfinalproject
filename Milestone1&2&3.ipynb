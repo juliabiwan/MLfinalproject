{
  "nbformat": 4,
  "nbformat_minor": 0,
  "metadata": {
    "colab": {
      "provenance": []
    },
    "kernelspec": {
      "name": "python3",
      "display_name": "Python 3"
    },
    "language_info": {
      "name": "python"
    },
    "widgets": {
      "application/vnd.jupyter.widget-state+json": {
        "8910c77069a447c68f688b06934a6b5b": {
          "model_module": "@jupyter-widgets/controls",
          "model_name": "VBoxModel",
          "model_module_version": "1.5.0",
          "state": {
            "_dom_classes": [],
            "_model_module": "@jupyter-widgets/controls",
            "_model_module_version": "1.5.0",
            "_model_name": "VBoxModel",
            "_view_count": null,
            "_view_module": "@jupyter-widgets/controls",
            "_view_module_version": "1.5.0",
            "_view_name": "VBoxView",
            "box_style": "",
            "children": [],
            "layout": "IPY_MODEL_d327743b12934c65bd081bf9f846cb1c"
          }
        },
        "8966e0e3900542cb8cd762385ff5fd0f": {
          "model_module": "@jupyter-widgets/controls",
          "model_name": "HTMLModel",
          "model_module_version": "1.5.0",
          "state": {
            "_dom_classes": [],
            "_model_module": "@jupyter-widgets/controls",
            "_model_module_version": "1.5.0",
            "_model_name": "HTMLModel",
            "_view_count": null,
            "_view_module": "@jupyter-widgets/controls",
            "_view_module_version": "1.5.0",
            "_view_name": "HTMLView",
            "description": "",
            "description_tooltip": null,
            "layout": "IPY_MODEL_3cdc5fc389c846e3a7af4a66ea5107a1",
            "placeholder": "​",
            "style": "IPY_MODEL_3d1d7914e7194c169414dbe2a850c871",
            "value": "<center> <img\nsrc=https://huggingface.co/front/assets/huggingface_logo-noborder.svg\nalt='Hugging Face'> <br> Copy a token from <a\nhref=\"https://huggingface.co/settings/tokens\" target=\"_blank\">your Hugging Face\ntokens page</a> and paste it below. <br> Immediately click login after copying\nyour token or it might be stored in plain text in this notebook file. </center>"
          }
        },
        "0849c2ef8147495ea73f8484a3db6f02": {
          "model_module": "@jupyter-widgets/controls",
          "model_name": "PasswordModel",
          "model_module_version": "1.5.0",
          "state": {
            "_dom_classes": [],
            "_model_module": "@jupyter-widgets/controls",
            "_model_module_version": "1.5.0",
            "_model_name": "PasswordModel",
            "_view_count": null,
            "_view_module": "@jupyter-widgets/controls",
            "_view_module_version": "1.5.0",
            "_view_name": "PasswordView",
            "continuous_update": true,
            "description": "Token:",
            "description_tooltip": null,
            "disabled": false,
            "layout": "IPY_MODEL_aa7f20e565cc429786e8fdee155a882d",
            "placeholder": "​",
            "style": "IPY_MODEL_9896fa53ee024711b7d8ae9a053c6742",
            "value": ""
          }
        },
        "bffffdb73c454d7d8b3c8832d7fff487": {
          "model_module": "@jupyter-widgets/controls",
          "model_name": "CheckboxModel",
          "model_module_version": "1.5.0",
          "state": {
            "_dom_classes": [],
            "_model_module": "@jupyter-widgets/controls",
            "_model_module_version": "1.5.0",
            "_model_name": "CheckboxModel",
            "_view_count": null,
            "_view_module": "@jupyter-widgets/controls",
            "_view_module_version": "1.5.0",
            "_view_name": "CheckboxView",
            "description": "Add token as git credential?",
            "description_tooltip": null,
            "disabled": false,
            "indent": true,
            "layout": "IPY_MODEL_087a7804744d4be5868b93f7c41bdb92",
            "style": "IPY_MODEL_47a41d6db32e40ec9ea55cd9029f4667",
            "value": true
          }
        },
        "79966d19159045648c80b8be373ffde6": {
          "model_module": "@jupyter-widgets/controls",
          "model_name": "ButtonModel",
          "model_module_version": "1.5.0",
          "state": {
            "_dom_classes": [],
            "_model_module": "@jupyter-widgets/controls",
            "_model_module_version": "1.5.0",
            "_model_name": "ButtonModel",
            "_view_count": null,
            "_view_module": "@jupyter-widgets/controls",
            "_view_module_version": "1.5.0",
            "_view_name": "ButtonView",
            "button_style": "",
            "description": "Login",
            "disabled": false,
            "icon": "",
            "layout": "IPY_MODEL_4886561519594f3084ea7b8820034a6a",
            "style": "IPY_MODEL_7708dbe24c084d64b44362c67da48855",
            "tooltip": ""
          }
        },
        "82b8e28eb56148bf8093755a31949bd8": {
          "model_module": "@jupyter-widgets/controls",
          "model_name": "HTMLModel",
          "model_module_version": "1.5.0",
          "state": {
            "_dom_classes": [],
            "_model_module": "@jupyter-widgets/controls",
            "_model_module_version": "1.5.0",
            "_model_name": "HTMLModel",
            "_view_count": null,
            "_view_module": "@jupyter-widgets/controls",
            "_view_module_version": "1.5.0",
            "_view_name": "HTMLView",
            "description": "",
            "description_tooltip": null,
            "layout": "IPY_MODEL_75f9ba59d3644239ad453ad81530c0ba",
            "placeholder": "​",
            "style": "IPY_MODEL_5c70662cb5144abebf318b1170ab0534",
            "value": "\n<b>Pro Tip:</b> If you don't already have one, you can create a dedicated\n'notebooks' token with 'write' access, that you can then easily reuse for all\nnotebooks. </center>"
          }
        },
        "d327743b12934c65bd081bf9f846cb1c": {
          "model_module": "@jupyter-widgets/base",
          "model_name": "LayoutModel",
          "model_module_version": "1.2.0",
          "state": {
            "_model_module": "@jupyter-widgets/base",
            "_model_module_version": "1.2.0",
            "_model_name": "LayoutModel",
            "_view_count": null,
            "_view_module": "@jupyter-widgets/base",
            "_view_module_version": "1.2.0",
            "_view_name": "LayoutView",
            "align_content": null,
            "align_items": "center",
            "align_self": null,
            "border": null,
            "bottom": null,
            "display": "flex",
            "flex": null,
            "flex_flow": "column",
            "grid_area": null,
            "grid_auto_columns": null,
            "grid_auto_flow": null,
            "grid_auto_rows": null,
            "grid_column": null,
            "grid_gap": null,
            "grid_row": null,
            "grid_template_areas": null,
            "grid_template_columns": null,
            "grid_template_rows": null,
            "height": null,
            "justify_content": null,
            "justify_items": null,
            "left": null,
            "margin": null,
            "max_height": null,
            "max_width": null,
            "min_height": null,
            "min_width": null,
            "object_fit": null,
            "object_position": null,
            "order": null,
            "overflow": null,
            "overflow_x": null,
            "overflow_y": null,
            "padding": null,
            "right": null,
            "top": null,
            "visibility": null,
            "width": "50%"
          }
        },
        "3cdc5fc389c846e3a7af4a66ea5107a1": {
          "model_module": "@jupyter-widgets/base",
          "model_name": "LayoutModel",
          "model_module_version": "1.2.0",
          "state": {
            "_model_module": "@jupyter-widgets/base",
            "_model_module_version": "1.2.0",
            "_model_name": "LayoutModel",
            "_view_count": null,
            "_view_module": "@jupyter-widgets/base",
            "_view_module_version": "1.2.0",
            "_view_name": "LayoutView",
            "align_content": null,
            "align_items": null,
            "align_self": null,
            "border": null,
            "bottom": null,
            "display": null,
            "flex": null,
            "flex_flow": null,
            "grid_area": null,
            "grid_auto_columns": null,
            "grid_auto_flow": null,
            "grid_auto_rows": null,
            "grid_column": null,
            "grid_gap": null,
            "grid_row": null,
            "grid_template_areas": null,
            "grid_template_columns": null,
            "grid_template_rows": null,
            "height": null,
            "justify_content": null,
            "justify_items": null,
            "left": null,
            "margin": null,
            "max_height": null,
            "max_width": null,
            "min_height": null,
            "min_width": null,
            "object_fit": null,
            "object_position": null,
            "order": null,
            "overflow": null,
            "overflow_x": null,
            "overflow_y": null,
            "padding": null,
            "right": null,
            "top": null,
            "visibility": null,
            "width": null
          }
        },
        "3d1d7914e7194c169414dbe2a850c871": {
          "model_module": "@jupyter-widgets/controls",
          "model_name": "DescriptionStyleModel",
          "model_module_version": "1.5.0",
          "state": {
            "_model_module": "@jupyter-widgets/controls",
            "_model_module_version": "1.5.0",
            "_model_name": "DescriptionStyleModel",
            "_view_count": null,
            "_view_module": "@jupyter-widgets/base",
            "_view_module_version": "1.2.0",
            "_view_name": "StyleView",
            "description_width": ""
          }
        },
        "aa7f20e565cc429786e8fdee155a882d": {
          "model_module": "@jupyter-widgets/base",
          "model_name": "LayoutModel",
          "model_module_version": "1.2.0",
          "state": {
            "_model_module": "@jupyter-widgets/base",
            "_model_module_version": "1.2.0",
            "_model_name": "LayoutModel",
            "_view_count": null,
            "_view_module": "@jupyter-widgets/base",
            "_view_module_version": "1.2.0",
            "_view_name": "LayoutView",
            "align_content": null,
            "align_items": null,
            "align_self": null,
            "border": null,
            "bottom": null,
            "display": null,
            "flex": null,
            "flex_flow": null,
            "grid_area": null,
            "grid_auto_columns": null,
            "grid_auto_flow": null,
            "grid_auto_rows": null,
            "grid_column": null,
            "grid_gap": null,
            "grid_row": null,
            "grid_template_areas": null,
            "grid_template_columns": null,
            "grid_template_rows": null,
            "height": null,
            "justify_content": null,
            "justify_items": null,
            "left": null,
            "margin": null,
            "max_height": null,
            "max_width": null,
            "min_height": null,
            "min_width": null,
            "object_fit": null,
            "object_position": null,
            "order": null,
            "overflow": null,
            "overflow_x": null,
            "overflow_y": null,
            "padding": null,
            "right": null,
            "top": null,
            "visibility": null,
            "width": null
          }
        },
        "9896fa53ee024711b7d8ae9a053c6742": {
          "model_module": "@jupyter-widgets/controls",
          "model_name": "DescriptionStyleModel",
          "model_module_version": "1.5.0",
          "state": {
            "_model_module": "@jupyter-widgets/controls",
            "_model_module_version": "1.5.0",
            "_model_name": "DescriptionStyleModel",
            "_view_count": null,
            "_view_module": "@jupyter-widgets/base",
            "_view_module_version": "1.2.0",
            "_view_name": "StyleView",
            "description_width": ""
          }
        },
        "087a7804744d4be5868b93f7c41bdb92": {
          "model_module": "@jupyter-widgets/base",
          "model_name": "LayoutModel",
          "model_module_version": "1.2.0",
          "state": {
            "_model_module": "@jupyter-widgets/base",
            "_model_module_version": "1.2.0",
            "_model_name": "LayoutModel",
            "_view_count": null,
            "_view_module": "@jupyter-widgets/base",
            "_view_module_version": "1.2.0",
            "_view_name": "LayoutView",
            "align_content": null,
            "align_items": null,
            "align_self": null,
            "border": null,
            "bottom": null,
            "display": null,
            "flex": null,
            "flex_flow": null,
            "grid_area": null,
            "grid_auto_columns": null,
            "grid_auto_flow": null,
            "grid_auto_rows": null,
            "grid_column": null,
            "grid_gap": null,
            "grid_row": null,
            "grid_template_areas": null,
            "grid_template_columns": null,
            "grid_template_rows": null,
            "height": null,
            "justify_content": null,
            "justify_items": null,
            "left": null,
            "margin": null,
            "max_height": null,
            "max_width": null,
            "min_height": null,
            "min_width": null,
            "object_fit": null,
            "object_position": null,
            "order": null,
            "overflow": null,
            "overflow_x": null,
            "overflow_y": null,
            "padding": null,
            "right": null,
            "top": null,
            "visibility": null,
            "width": null
          }
        },
        "47a41d6db32e40ec9ea55cd9029f4667": {
          "model_module": "@jupyter-widgets/controls",
          "model_name": "DescriptionStyleModel",
          "model_module_version": "1.5.0",
          "state": {
            "_model_module": "@jupyter-widgets/controls",
            "_model_module_version": "1.5.0",
            "_model_name": "DescriptionStyleModel",
            "_view_count": null,
            "_view_module": "@jupyter-widgets/base",
            "_view_module_version": "1.2.0",
            "_view_name": "StyleView",
            "description_width": ""
          }
        },
        "4886561519594f3084ea7b8820034a6a": {
          "model_module": "@jupyter-widgets/base",
          "model_name": "LayoutModel",
          "model_module_version": "1.2.0",
          "state": {
            "_model_module": "@jupyter-widgets/base",
            "_model_module_version": "1.2.0",
            "_model_name": "LayoutModel",
            "_view_count": null,
            "_view_module": "@jupyter-widgets/base",
            "_view_module_version": "1.2.0",
            "_view_name": "LayoutView",
            "align_content": null,
            "align_items": null,
            "align_self": null,
            "border": null,
            "bottom": null,
            "display": null,
            "flex": null,
            "flex_flow": null,
            "grid_area": null,
            "grid_auto_columns": null,
            "grid_auto_flow": null,
            "grid_auto_rows": null,
            "grid_column": null,
            "grid_gap": null,
            "grid_row": null,
            "grid_template_areas": null,
            "grid_template_columns": null,
            "grid_template_rows": null,
            "height": null,
            "justify_content": null,
            "justify_items": null,
            "left": null,
            "margin": null,
            "max_height": null,
            "max_width": null,
            "min_height": null,
            "min_width": null,
            "object_fit": null,
            "object_position": null,
            "order": null,
            "overflow": null,
            "overflow_x": null,
            "overflow_y": null,
            "padding": null,
            "right": null,
            "top": null,
            "visibility": null,
            "width": null
          }
        },
        "7708dbe24c084d64b44362c67da48855": {
          "model_module": "@jupyter-widgets/controls",
          "model_name": "ButtonStyleModel",
          "model_module_version": "1.5.0",
          "state": {
            "_model_module": "@jupyter-widgets/controls",
            "_model_module_version": "1.5.0",
            "_model_name": "ButtonStyleModel",
            "_view_count": null,
            "_view_module": "@jupyter-widgets/base",
            "_view_module_version": "1.2.0",
            "_view_name": "StyleView",
            "button_color": null,
            "font_weight": ""
          }
        },
        "75f9ba59d3644239ad453ad81530c0ba": {
          "model_module": "@jupyter-widgets/base",
          "model_name": "LayoutModel",
          "model_module_version": "1.2.0",
          "state": {
            "_model_module": "@jupyter-widgets/base",
            "_model_module_version": "1.2.0",
            "_model_name": "LayoutModel",
            "_view_count": null,
            "_view_module": "@jupyter-widgets/base",
            "_view_module_version": "1.2.0",
            "_view_name": "LayoutView",
            "align_content": null,
            "align_items": null,
            "align_self": null,
            "border": null,
            "bottom": null,
            "display": null,
            "flex": null,
            "flex_flow": null,
            "grid_area": null,
            "grid_auto_columns": null,
            "grid_auto_flow": null,
            "grid_auto_rows": null,
            "grid_column": null,
            "grid_gap": null,
            "grid_row": null,
            "grid_template_areas": null,
            "grid_template_columns": null,
            "grid_template_rows": null,
            "height": null,
            "justify_content": null,
            "justify_items": null,
            "left": null,
            "margin": null,
            "max_height": null,
            "max_width": null,
            "min_height": null,
            "min_width": null,
            "object_fit": null,
            "object_position": null,
            "order": null,
            "overflow": null,
            "overflow_x": null,
            "overflow_y": null,
            "padding": null,
            "right": null,
            "top": null,
            "visibility": null,
            "width": null
          }
        },
        "5c70662cb5144abebf318b1170ab0534": {
          "model_module": "@jupyter-widgets/controls",
          "model_name": "DescriptionStyleModel",
          "model_module_version": "1.5.0",
          "state": {
            "_model_module": "@jupyter-widgets/controls",
            "_model_module_version": "1.5.0",
            "_model_name": "DescriptionStyleModel",
            "_view_count": null,
            "_view_module": "@jupyter-widgets/base",
            "_view_module_version": "1.2.0",
            "_view_name": "StyleView",
            "description_width": ""
          }
        },
        "106be7b4878946d8b5d63ed66c1a3b74": {
          "model_module": "@jupyter-widgets/controls",
          "model_name": "LabelModel",
          "model_module_version": "1.5.0",
          "state": {
            "_dom_classes": [],
            "_model_module": "@jupyter-widgets/controls",
            "_model_module_version": "1.5.0",
            "_model_name": "LabelModel",
            "_view_count": null,
            "_view_module": "@jupyter-widgets/controls",
            "_view_module_version": "1.5.0",
            "_view_name": "LabelView",
            "description": "",
            "description_tooltip": null,
            "layout": "IPY_MODEL_4696b8a831914e56a9cf9980914bec43",
            "placeholder": "​",
            "style": "IPY_MODEL_af76db006d004a6389cb3fd5d1cfe61d",
            "value": "Connecting..."
          }
        },
        "4696b8a831914e56a9cf9980914bec43": {
          "model_module": "@jupyter-widgets/base",
          "model_name": "LayoutModel",
          "model_module_version": "1.2.0",
          "state": {
            "_model_module": "@jupyter-widgets/base",
            "_model_module_version": "1.2.0",
            "_model_name": "LayoutModel",
            "_view_count": null,
            "_view_module": "@jupyter-widgets/base",
            "_view_module_version": "1.2.0",
            "_view_name": "LayoutView",
            "align_content": null,
            "align_items": null,
            "align_self": null,
            "border": null,
            "bottom": null,
            "display": null,
            "flex": null,
            "flex_flow": null,
            "grid_area": null,
            "grid_auto_columns": null,
            "grid_auto_flow": null,
            "grid_auto_rows": null,
            "grid_column": null,
            "grid_gap": null,
            "grid_row": null,
            "grid_template_areas": null,
            "grid_template_columns": null,
            "grid_template_rows": null,
            "height": null,
            "justify_content": null,
            "justify_items": null,
            "left": null,
            "margin": null,
            "max_height": null,
            "max_width": null,
            "min_height": null,
            "min_width": null,
            "object_fit": null,
            "object_position": null,
            "order": null,
            "overflow": null,
            "overflow_x": null,
            "overflow_y": null,
            "padding": null,
            "right": null,
            "top": null,
            "visibility": null,
            "width": null
          }
        },
        "af76db006d004a6389cb3fd5d1cfe61d": {
          "model_module": "@jupyter-widgets/controls",
          "model_name": "DescriptionStyleModel",
          "model_module_version": "1.5.0",
          "state": {
            "_model_module": "@jupyter-widgets/controls",
            "_model_module_version": "1.5.0",
            "_model_name": "DescriptionStyleModel",
            "_view_count": null,
            "_view_module": "@jupyter-widgets/base",
            "_view_module_version": "1.2.0",
            "_view_name": "StyleView",
            "description_width": ""
          }
        },
        "555f326db1fa4f6ebd38a6eae31216d0": {
          "model_module": "@jupyter-widgets/controls",
          "model_name": "HBoxModel",
          "model_module_version": "1.5.0",
          "state": {
            "_dom_classes": [],
            "_model_module": "@jupyter-widgets/controls",
            "_model_module_version": "1.5.0",
            "_model_name": "HBoxModel",
            "_view_count": null,
            "_view_module": "@jupyter-widgets/controls",
            "_view_module_version": "1.5.0",
            "_view_name": "HBoxView",
            "box_style": "",
            "children": [
              "IPY_MODEL_7474973c56eb43b2b50143f427479cf5",
              "IPY_MODEL_90e5a16ab2b74529836e06b603107e31",
              "IPY_MODEL_d268bd030c4d4064890d9551cf87a62f"
            ],
            "layout": "IPY_MODEL_fad03b68733348f484071066f96c5193"
          }
        },
        "7474973c56eb43b2b50143f427479cf5": {
          "model_module": "@jupyter-widgets/controls",
          "model_name": "HTMLModel",
          "model_module_version": "1.5.0",
          "state": {
            "_dom_classes": [],
            "_model_module": "@jupyter-widgets/controls",
            "_model_module_version": "1.5.0",
            "_model_name": "HTMLModel",
            "_view_count": null,
            "_view_module": "@jupyter-widgets/controls",
            "_view_module_version": "1.5.0",
            "_view_name": "HTMLView",
            "description": "",
            "description_tooltip": null,
            "layout": "IPY_MODEL_66b906b55ae9403187c73090709ab1d3",
            "placeholder": "​",
            "style": "IPY_MODEL_6cfcab7c2bd044e49efaaac3dadd1303",
            "value": "svd_model.pkl: 100%"
          }
        },
        "90e5a16ab2b74529836e06b603107e31": {
          "model_module": "@jupyter-widgets/controls",
          "model_name": "FloatProgressModel",
          "model_module_version": "1.5.0",
          "state": {
            "_dom_classes": [],
            "_model_module": "@jupyter-widgets/controls",
            "_model_module_version": "1.5.0",
            "_model_name": "FloatProgressModel",
            "_view_count": null,
            "_view_module": "@jupyter-widgets/controls",
            "_view_module_version": "1.5.0",
            "_view_name": "ProgressView",
            "bar_style": "success",
            "description": "",
            "description_tooltip": null,
            "layout": "IPY_MODEL_59c3fb2ea71a457c83205fff943c4e1a",
            "max": 4515,
            "min": 0,
            "orientation": "horizontal",
            "style": "IPY_MODEL_1416489426d94cd191828446eeae8ab9",
            "value": 4515
          }
        },
        "d268bd030c4d4064890d9551cf87a62f": {
          "model_module": "@jupyter-widgets/controls",
          "model_name": "HTMLModel",
          "model_module_version": "1.5.0",
          "state": {
            "_dom_classes": [],
            "_model_module": "@jupyter-widgets/controls",
            "_model_module_version": "1.5.0",
            "_model_name": "HTMLModel",
            "_view_count": null,
            "_view_module": "@jupyter-widgets/controls",
            "_view_module_version": "1.5.0",
            "_view_name": "HTMLView",
            "description": "",
            "description_tooltip": null,
            "layout": "IPY_MODEL_7ea88b60ed80442dbf8a3a742b15c745",
            "placeholder": "​",
            "style": "IPY_MODEL_53cc941fc84b49e7815ba8ffc1925424",
            "value": " 4.51k/4.51k [00:00&lt;00:00, 24.2kB/s]"
          }
        },
        "fad03b68733348f484071066f96c5193": {
          "model_module": "@jupyter-widgets/base",
          "model_name": "LayoutModel",
          "model_module_version": "1.2.0",
          "state": {
            "_model_module": "@jupyter-widgets/base",
            "_model_module_version": "1.2.0",
            "_model_name": "LayoutModel",
            "_view_count": null,
            "_view_module": "@jupyter-widgets/base",
            "_view_module_version": "1.2.0",
            "_view_name": "LayoutView",
            "align_content": null,
            "align_items": null,
            "align_self": null,
            "border": null,
            "bottom": null,
            "display": null,
            "flex": null,
            "flex_flow": null,
            "grid_area": null,
            "grid_auto_columns": null,
            "grid_auto_flow": null,
            "grid_auto_rows": null,
            "grid_column": null,
            "grid_gap": null,
            "grid_row": null,
            "grid_template_areas": null,
            "grid_template_columns": null,
            "grid_template_rows": null,
            "height": null,
            "justify_content": null,
            "justify_items": null,
            "left": null,
            "margin": null,
            "max_height": null,
            "max_width": null,
            "min_height": null,
            "min_width": null,
            "object_fit": null,
            "object_position": null,
            "order": null,
            "overflow": null,
            "overflow_x": null,
            "overflow_y": null,
            "padding": null,
            "right": null,
            "top": null,
            "visibility": null,
            "width": null
          }
        },
        "66b906b55ae9403187c73090709ab1d3": {
          "model_module": "@jupyter-widgets/base",
          "model_name": "LayoutModel",
          "model_module_version": "1.2.0",
          "state": {
            "_model_module": "@jupyter-widgets/base",
            "_model_module_version": "1.2.0",
            "_model_name": "LayoutModel",
            "_view_count": null,
            "_view_module": "@jupyter-widgets/base",
            "_view_module_version": "1.2.0",
            "_view_name": "LayoutView",
            "align_content": null,
            "align_items": null,
            "align_self": null,
            "border": null,
            "bottom": null,
            "display": null,
            "flex": null,
            "flex_flow": null,
            "grid_area": null,
            "grid_auto_columns": null,
            "grid_auto_flow": null,
            "grid_auto_rows": null,
            "grid_column": null,
            "grid_gap": null,
            "grid_row": null,
            "grid_template_areas": null,
            "grid_template_columns": null,
            "grid_template_rows": null,
            "height": null,
            "justify_content": null,
            "justify_items": null,
            "left": null,
            "margin": null,
            "max_height": null,
            "max_width": null,
            "min_height": null,
            "min_width": null,
            "object_fit": null,
            "object_position": null,
            "order": null,
            "overflow": null,
            "overflow_x": null,
            "overflow_y": null,
            "padding": null,
            "right": null,
            "top": null,
            "visibility": null,
            "width": null
          }
        },
        "6cfcab7c2bd044e49efaaac3dadd1303": {
          "model_module": "@jupyter-widgets/controls",
          "model_name": "DescriptionStyleModel",
          "model_module_version": "1.5.0",
          "state": {
            "_model_module": "@jupyter-widgets/controls",
            "_model_module_version": "1.5.0",
            "_model_name": "DescriptionStyleModel",
            "_view_count": null,
            "_view_module": "@jupyter-widgets/base",
            "_view_module_version": "1.2.0",
            "_view_name": "StyleView",
            "description_width": ""
          }
        },
        "59c3fb2ea71a457c83205fff943c4e1a": {
          "model_module": "@jupyter-widgets/base",
          "model_name": "LayoutModel",
          "model_module_version": "1.2.0",
          "state": {
            "_model_module": "@jupyter-widgets/base",
            "_model_module_version": "1.2.0",
            "_model_name": "LayoutModel",
            "_view_count": null,
            "_view_module": "@jupyter-widgets/base",
            "_view_module_version": "1.2.0",
            "_view_name": "LayoutView",
            "align_content": null,
            "align_items": null,
            "align_self": null,
            "border": null,
            "bottom": null,
            "display": null,
            "flex": null,
            "flex_flow": null,
            "grid_area": null,
            "grid_auto_columns": null,
            "grid_auto_flow": null,
            "grid_auto_rows": null,
            "grid_column": null,
            "grid_gap": null,
            "grid_row": null,
            "grid_template_areas": null,
            "grid_template_columns": null,
            "grid_template_rows": null,
            "height": null,
            "justify_content": null,
            "justify_items": null,
            "left": null,
            "margin": null,
            "max_height": null,
            "max_width": null,
            "min_height": null,
            "min_width": null,
            "object_fit": null,
            "object_position": null,
            "order": null,
            "overflow": null,
            "overflow_x": null,
            "overflow_y": null,
            "padding": null,
            "right": null,
            "top": null,
            "visibility": null,
            "width": null
          }
        },
        "1416489426d94cd191828446eeae8ab9": {
          "model_module": "@jupyter-widgets/controls",
          "model_name": "ProgressStyleModel",
          "model_module_version": "1.5.0",
          "state": {
            "_model_module": "@jupyter-widgets/controls",
            "_model_module_version": "1.5.0",
            "_model_name": "ProgressStyleModel",
            "_view_count": null,
            "_view_module": "@jupyter-widgets/base",
            "_view_module_version": "1.2.0",
            "_view_name": "StyleView",
            "bar_color": null,
            "description_width": ""
          }
        },
        "7ea88b60ed80442dbf8a3a742b15c745": {
          "model_module": "@jupyter-widgets/base",
          "model_name": "LayoutModel",
          "model_module_version": "1.2.0",
          "state": {
            "_model_module": "@jupyter-widgets/base",
            "_model_module_version": "1.2.0",
            "_model_name": "LayoutModel",
            "_view_count": null,
            "_view_module": "@jupyter-widgets/base",
            "_view_module_version": "1.2.0",
            "_view_name": "LayoutView",
            "align_content": null,
            "align_items": null,
            "align_self": null,
            "border": null,
            "bottom": null,
            "display": null,
            "flex": null,
            "flex_flow": null,
            "grid_area": null,
            "grid_auto_columns": null,
            "grid_auto_flow": null,
            "grid_auto_rows": null,
            "grid_column": null,
            "grid_gap": null,
            "grid_row": null,
            "grid_template_areas": null,
            "grid_template_columns": null,
            "grid_template_rows": null,
            "height": null,
            "justify_content": null,
            "justify_items": null,
            "left": null,
            "margin": null,
            "max_height": null,
            "max_width": null,
            "min_height": null,
            "min_width": null,
            "object_fit": null,
            "object_position": null,
            "order": null,
            "overflow": null,
            "overflow_x": null,
            "overflow_y": null,
            "padding": null,
            "right": null,
            "top": null,
            "visibility": null,
            "width": null
          }
        },
        "53cc941fc84b49e7815ba8ffc1925424": {
          "model_module": "@jupyter-widgets/controls",
          "model_name": "DescriptionStyleModel",
          "model_module_version": "1.5.0",
          "state": {
            "_model_module": "@jupyter-widgets/controls",
            "_model_module_version": "1.5.0",
            "_model_name": "DescriptionStyleModel",
            "_view_count": null,
            "_view_module": "@jupyter-widgets/base",
            "_view_module_version": "1.2.0",
            "_view_name": "StyleView",
            "description_width": ""
          }
        }
      }
    }
  },
  "cells": [
    {
      "cell_type": "code",
      "source": [
        "#Milestone 1"
      ],
      "metadata": {
        "id": "wlsx97wsIGmW"
      },
      "execution_count": null,
      "outputs": []
    },
    {
      "cell_type": "code",
      "execution_count": 1,
      "metadata": {
        "id": "KviYgz6_X018"
      },
      "outputs": [],
      "source": [
        "import pandas as pd"
      ]
    },
    {
      "cell_type": "code",
      "source": [
        "file_path = '/content/imdb_top_1000.csv.xls'\n",
        "movies_df = pd.read_csv(file_path)"
      ],
      "metadata": {
        "id": "3vD2BiMoYHcg"
      },
      "execution_count": 2,
      "outputs": []
    },
    {
      "cell_type": "code",
      "source": [
        "print(movies_df.info())\n",
        "print(movies_df.head())"
      ],
      "metadata": {
        "colab": {
          "base_uri": "https://localhost:8080/"
        },
        "id": "QhgRKLACYK7K",
        "outputId": "28cb5da7-fc73-4fd1-b9b2-85804b8b1644"
      },
      "execution_count": 3,
      "outputs": [
        {
          "output_type": "stream",
          "name": "stdout",
          "text": [
            "<class 'pandas.core.frame.DataFrame'>\n",
            "RangeIndex: 1000 entries, 0 to 999\n",
            "Data columns (total 16 columns):\n",
            " #   Column         Non-Null Count  Dtype  \n",
            "---  ------         --------------  -----  \n",
            " 0   Poster_Link    1000 non-null   object \n",
            " 1   Series_Title   1000 non-null   object \n",
            " 2   Released_Year  1000 non-null   object \n",
            " 3   Certificate    899 non-null    object \n",
            " 4   Runtime        1000 non-null   object \n",
            " 5   Genre          1000 non-null   object \n",
            " 6   IMDB_Rating    1000 non-null   float64\n",
            " 7   Overview       1000 non-null   object \n",
            " 8   Meta_score     843 non-null    float64\n",
            " 9   Director       1000 non-null   object \n",
            " 10  Star1          1000 non-null   object \n",
            " 11  Star2          1000 non-null   object \n",
            " 12  Star3          1000 non-null   object \n",
            " 13  Star4          1000 non-null   object \n",
            " 14  No_of_Votes    1000 non-null   int64  \n",
            " 15  Gross          831 non-null    object \n",
            "dtypes: float64(2), int64(1), object(13)\n",
            "memory usage: 125.1+ KB\n",
            "None\n",
            "                                         Poster_Link  \\\n",
            "0  https://m.media-amazon.com/images/M/MV5BMDFkYT...   \n",
            "1  https://m.media-amazon.com/images/M/MV5BM2MyNj...   \n",
            "2  https://m.media-amazon.com/images/M/MV5BMTMxNT...   \n",
            "3  https://m.media-amazon.com/images/M/MV5BMWMwMG...   \n",
            "4  https://m.media-amazon.com/images/M/MV5BMWU4N2...   \n",
            "\n",
            "               Series_Title Released_Year Certificate  Runtime  \\\n",
            "0  The Shawshank Redemption          1994           A  142 min   \n",
            "1             The Godfather          1972           A  175 min   \n",
            "2           The Dark Knight          2008          UA  152 min   \n",
            "3    The Godfather: Part II          1974           A  202 min   \n",
            "4              12 Angry Men          1957           U   96 min   \n",
            "\n",
            "                  Genre  IMDB_Rating  \\\n",
            "0                 Drama          9.3   \n",
            "1          Crime, Drama          9.2   \n",
            "2  Action, Crime, Drama          9.0   \n",
            "3          Crime, Drama          9.0   \n",
            "4          Crime, Drama          9.0   \n",
            "\n",
            "                                            Overview  Meta_score  \\\n",
            "0  Two imprisoned men bond over a number of years...        80.0   \n",
            "1  An organized crime dynasty's aging patriarch t...       100.0   \n",
            "2  When the menace known as the Joker wreaks havo...        84.0   \n",
            "3  The early life and career of Vito Corleone in ...        90.0   \n",
            "4  A jury holdout attempts to prevent a miscarria...        96.0   \n",
            "\n",
            "               Director           Star1           Star2          Star3  \\\n",
            "0        Frank Darabont     Tim Robbins  Morgan Freeman     Bob Gunton   \n",
            "1  Francis Ford Coppola   Marlon Brando       Al Pacino     James Caan   \n",
            "2     Christopher Nolan  Christian Bale    Heath Ledger  Aaron Eckhart   \n",
            "3  Francis Ford Coppola       Al Pacino  Robert De Niro  Robert Duvall   \n",
            "4          Sidney Lumet     Henry Fonda     Lee J. Cobb  Martin Balsam   \n",
            "\n",
            "            Star4  No_of_Votes        Gross  \n",
            "0  William Sadler      2343110   28,341,469  \n",
            "1    Diane Keaton      1620367  134,966,411  \n",
            "2   Michael Caine      2303232  534,858,444  \n",
            "3    Diane Keaton      1129952   57,300,000  \n",
            "4    John Fiedler       689845    4,360,000  \n"
          ]
        }
      ]
    },
    {
      "cell_type": "code",
      "source": [
        "relevant_columns = ['Series_Title', 'Genre', 'Director', 'IMDB_Rating']\n",
        "movies_df = movies_df[relevant_columns]"
      ],
      "metadata": {
        "id": "Tfs4UfDmYRDZ"
      },
      "execution_count": 4,
      "outputs": []
    },
    {
      "cell_type": "code",
      "source": [
        "print(movies_df.head())"
      ],
      "metadata": {
        "colab": {
          "base_uri": "https://localhost:8080/"
        },
        "id": "pQv3tVTTYryO",
        "outputId": "e6496289-a932-468f-8f74-df33497435ea"
      },
      "execution_count": 5,
      "outputs": [
        {
          "output_type": "stream",
          "name": "stdout",
          "text": [
            "               Series_Title                 Genre              Director  \\\n",
            "0  The Shawshank Redemption                 Drama        Frank Darabont   \n",
            "1             The Godfather          Crime, Drama  Francis Ford Coppola   \n",
            "2           The Dark Knight  Action, Crime, Drama     Christopher Nolan   \n",
            "3    The Godfather: Part II          Crime, Drama  Francis Ford Coppola   \n",
            "4              12 Angry Men          Crime, Drama          Sidney Lumet   \n",
            "\n",
            "   IMDB_Rating  \n",
            "0          9.3  \n",
            "1          9.2  \n",
            "2          9.0  \n",
            "3          9.0  \n",
            "4          9.0  \n"
          ]
        }
      ]
    },
    {
      "cell_type": "code",
      "source": [
        "movies_df['Genre'].fillna('Unknown', inplace=True)\n",
        "movies_df['Director'].fillna('Unknown', inplace=True)"
      ],
      "metadata": {
        "colab": {
          "base_uri": "https://localhost:8080/"
        },
        "id": "SnrEhxHhYyp6",
        "outputId": "ace2fc54-4275-48db-cd3c-9eb88101ef5c"
      },
      "execution_count": 6,
      "outputs": [
        {
          "output_type": "stream",
          "name": "stderr",
          "text": [
            "<ipython-input-6-6fa4672f13bf>:1: FutureWarning: A value is trying to be set on a copy of a DataFrame or Series through chained assignment using an inplace method.\n",
            "The behavior will change in pandas 3.0. This inplace method will never work because the intermediate object on which we are setting values always behaves as a copy.\n",
            "\n",
            "For example, when doing 'df[col].method(value, inplace=True)', try using 'df.method({col: value}, inplace=True)' or df[col] = df[col].method(value) instead, to perform the operation inplace on the original object.\n",
            "\n",
            "\n",
            "  movies_df['Genre'].fillna('Unknown', inplace=True)\n",
            "<ipython-input-6-6fa4672f13bf>:2: FutureWarning: A value is trying to be set on a copy of a DataFrame or Series through chained assignment using an inplace method.\n",
            "The behavior will change in pandas 3.0. This inplace method will never work because the intermediate object on which we are setting values always behaves as a copy.\n",
            "\n",
            "For example, when doing 'df[col].method(value, inplace=True)', try using 'df.method({col: value}, inplace=True)' or df[col] = df[col].method(value) instead, to perform the operation inplace on the original object.\n",
            "\n",
            "\n",
            "  movies_df['Director'].fillna('Unknown', inplace=True)\n"
          ]
        }
      ]
    },
    {
      "cell_type": "code",
      "source": [
        "movies_df.drop_duplicates(subset=['Series_Title'], inplace=True)"
      ],
      "metadata": {
        "id": "GQsiuziQY-me"
      },
      "execution_count": 7,
      "outputs": []
    },
    {
      "cell_type": "code",
      "source": [
        "print(movies_df.info())"
      ],
      "metadata": {
        "colab": {
          "base_uri": "https://localhost:8080/"
        },
        "id": "qG-_Au5sZGYt",
        "outputId": "8049a2f8-352d-4707-a723-5514c66b71fd"
      },
      "execution_count": 8,
      "outputs": [
        {
          "output_type": "stream",
          "name": "stdout",
          "text": [
            "<class 'pandas.core.frame.DataFrame'>\n",
            "Index: 999 entries, 0 to 999\n",
            "Data columns (total 4 columns):\n",
            " #   Column        Non-Null Count  Dtype  \n",
            "---  ------        --------------  -----  \n",
            " 0   Series_Title  999 non-null    object \n",
            " 1   Genre         999 non-null    object \n",
            " 2   Director      999 non-null    object \n",
            " 3   IMDB_Rating   999 non-null    float64\n",
            "dtypes: float64(1), object(3)\n",
            "memory usage: 39.0+ KB\n",
            "None\n"
          ]
        }
      ]
    },
    {
      "cell_type": "code",
      "source": [
        "import numpy as np"
      ],
      "metadata": {
        "id": "HuKsJ1afZJ8p"
      },
      "execution_count": 9,
      "outputs": []
    },
    {
      "cell_type": "code",
      "source": [
        "top_100_movies = movies_df.sample(100, random_state=42)"
      ],
      "metadata": {
        "id": "zyiFb9glZNM2"
      },
      "execution_count": 10,
      "outputs": []
    },
    {
      "cell_type": "code",
      "source": [
        "user_ratings = {\n",
        "    'User_1': np.random.randint(1, 6, size=100),\n",
        "    'User_2': np.random.randint(1, 6, size=100),\n",
        "    'User_3': np.random.randint(1, 6, size=100),\n",
        "}"
      ],
      "metadata": {
        "id": "5fBT3bGjZPUk"
      },
      "execution_count": 11,
      "outputs": []
    },
    {
      "cell_type": "code",
      "source": [
        "ratings_df = pd.DataFrame(user_ratings)\n",
        "ratings_df['Series_Title'] = top_100_movies['Series_Title'].values"
      ],
      "metadata": {
        "id": "qAw1FStQZR-A"
      },
      "execution_count": 12,
      "outputs": []
    },
    {
      "cell_type": "code",
      "source": [
        "rated_movies = pd.merge(ratings_df, movies_df, on='Series_Title')"
      ],
      "metadata": {
        "id": "eo9Z60RRZbPQ"
      },
      "execution_count": 13,
      "outputs": []
    },
    {
      "cell_type": "code",
      "source": [
        "print(rated_movies.head())"
      ],
      "metadata": {
        "colab": {
          "base_uri": "https://localhost:8080/"
        },
        "id": "g6lN_JA-ZjTD",
        "outputId": "8f741809-9ed7-4910-a5ea-6416d7384569"
      },
      "execution_count": 14,
      "outputs": [
        {
          "output_type": "stream",
          "name": "stdout",
          "text": [
            "   User_1  User_2  User_3                 Series_Title  \\\n",
            "0       3       2       3  The Best Years of Our Lives   \n",
            "1       1       5       3    Hedwig and the Angry Inch   \n",
            "2       3       4       3                    Gone Girl   \n",
            "3       3       2       2                The Red Shoes   \n",
            "4       1       5       4              Le Petit Prince   \n",
            "\n",
            "                         Genre               Director  IMDB_Rating  \n",
            "0          Drama, Romance, War          William Wyler          8.0  \n",
            "1         Comedy, Drama, Music  John Cameron Mitchell          7.7  \n",
            "2     Drama, Mystery, Thriller          David Fincher          8.1  \n",
            "3        Drama, Music, Romance         Michael Powell          8.1  \n",
            "4  Animation, Adventure, Drama           Mark Osborne          7.7  \n"
          ]
        }
      ]
    },
    {
      "cell_type": "code",
      "source": [
        "movies_df.to_csv('preprocessed_movies.csv', index=False)\n",
        "rated_movies.to_csv('user_rated_movies.csv', index=False)"
      ],
      "metadata": {
        "id": "KbqSUfneZw7Y"
      },
      "execution_count": 15,
      "outputs": []
    },
    {
      "cell_type": "code",
      "source": [
        "print(\"Preprocessed data saved successfully!\")"
      ],
      "metadata": {
        "id": "3gMrby6sZzws",
        "outputId": "ae364941-77b4-488e-a261-ca3b1dc512c8",
        "colab": {
          "base_uri": "https://localhost:8080/"
        }
      },
      "execution_count": 16,
      "outputs": [
        {
          "output_type": "stream",
          "name": "stdout",
          "text": [
            "Preprocessed data saved successfully!\n"
          ]
        }
      ]
    },
    {
      "cell_type": "code",
      "source": [
        "#Milestone 2"
      ],
      "metadata": {
        "id": "zZw0wnRLIKcQ"
      },
      "execution_count": null,
      "outputs": []
    },
    {
      "cell_type": "code",
      "source": [
        "!pip install scikit-surprise"
      ],
      "metadata": {
        "colab": {
          "base_uri": "https://localhost:8080/"
        },
        "id": "2Zg_-lcPKnZD",
        "outputId": "5a2ef8be-9008-4f70-df18-d668f15cc55e"
      },
      "execution_count": 17,
      "outputs": [
        {
          "output_type": "stream",
          "name": "stdout",
          "text": [
            "Collecting scikit-surprise\n",
            "  Downloading scikit_surprise-1.1.4.tar.gz (154 kB)\n",
            "\u001b[?25l     \u001b[90m━━━━━━━━━━━━━━━━━━━━━━━━━━━━━━━━━━━━━━━━\u001b[0m \u001b[32m0.0/154.4 kB\u001b[0m \u001b[31m?\u001b[0m eta \u001b[36m-:--:--\u001b[0m\r\u001b[2K     \u001b[91m━━━━━━━━━━━━━━━━━━━━━━━━━━━━━━━\u001b[0m\u001b[91m╸\u001b[0m\u001b[90m━━━━━━━━\u001b[0m \u001b[32m122.9/154.4 kB\u001b[0m \u001b[31m3.4 MB/s\u001b[0m eta \u001b[36m0:00:01\u001b[0m\r\u001b[2K     \u001b[90m━━━━━━━━━━━━━━━━━━━━━━━━━━━━━━━━━━━━━━━━\u001b[0m \u001b[32m154.4/154.4 kB\u001b[0m \u001b[31m2.9 MB/s\u001b[0m eta \u001b[36m0:00:00\u001b[0m\n",
            "\u001b[?25h  Installing build dependencies ... \u001b[?25l\u001b[?25hdone\n",
            "  Getting requirements to build wheel ... \u001b[?25l\u001b[?25hdone\n",
            "  Preparing metadata (pyproject.toml) ... \u001b[?25l\u001b[?25hdone\n",
            "Requirement already satisfied: joblib>=1.2.0 in /usr/local/lib/python3.11/dist-packages (from scikit-surprise) (1.4.2)\n",
            "Requirement already satisfied: numpy>=1.19.5 in /usr/local/lib/python3.11/dist-packages (from scikit-surprise) (1.26.4)\n",
            "Requirement already satisfied: scipy>=1.6.0 in /usr/local/lib/python3.11/dist-packages (from scikit-surprise) (1.13.1)\n",
            "Building wheels for collected packages: scikit-surprise\n",
            "  Building wheel for scikit-surprise (pyproject.toml) ... \u001b[?25l\u001b[?25hdone\n",
            "  Created wheel for scikit-surprise: filename=scikit_surprise-1.1.4-cp311-cp311-linux_x86_64.whl size=2505171 sha256=a5b7891197b425a70c9856b9a4507bd3466d17b5ed48c113aa49c63d19c78f28\n",
            "  Stored in directory: /root/.cache/pip/wheels/2a/8f/6e/7e2899163e2d85d8266daab4aa1cdabec7a6c56f83c015b5af\n",
            "Successfully built scikit-surprise\n",
            "Installing collected packages: scikit-surprise\n",
            "Successfully installed scikit-surprise-1.1.4\n"
          ]
        }
      ]
    },
    {
      "cell_type": "code",
      "source": [
        "movies_df = pd.read_csv('preprocessed_movies.csv')\n",
        "rated_movies = pd.read_csv('user_rated_movies.csv')\n",
        "print(movies_df.head())\n",
        "print(rated_movies.head())"
      ],
      "metadata": {
        "colab": {
          "base_uri": "https://localhost:8080/"
        },
        "id": "SyFGnjuJIKKS",
        "outputId": "6e29f81d-1324-4c9c-c912-9084d0086497"
      },
      "execution_count": 18,
      "outputs": [
        {
          "output_type": "stream",
          "name": "stdout",
          "text": [
            "               Series_Title                 Genre              Director  \\\n",
            "0  The Shawshank Redemption                 Drama        Frank Darabont   \n",
            "1             The Godfather          Crime, Drama  Francis Ford Coppola   \n",
            "2           The Dark Knight  Action, Crime, Drama     Christopher Nolan   \n",
            "3    The Godfather: Part II          Crime, Drama  Francis Ford Coppola   \n",
            "4              12 Angry Men          Crime, Drama          Sidney Lumet   \n",
            "\n",
            "   IMDB_Rating  \n",
            "0          9.3  \n",
            "1          9.2  \n",
            "2          9.0  \n",
            "3          9.0  \n",
            "4          9.0  \n",
            "   User_1  User_2  User_3                 Series_Title  \\\n",
            "0       3       2       3  The Best Years of Our Lives   \n",
            "1       1       5       3    Hedwig and the Angry Inch   \n",
            "2       3       4       3                    Gone Girl   \n",
            "3       3       2       2                The Red Shoes   \n",
            "4       1       5       4              Le Petit Prince   \n",
            "\n",
            "                         Genre               Director  IMDB_Rating  \n",
            "0          Drama, Romance, War          William Wyler          8.0  \n",
            "1         Comedy, Drama, Music  John Cameron Mitchell          7.7  \n",
            "2     Drama, Mystery, Thriller          David Fincher          8.1  \n",
            "3        Drama, Music, Romance         Michael Powell          8.1  \n",
            "4  Animation, Adventure, Drama           Mark Osborne          7.7  \n"
          ]
        }
      ]
    },
    {
      "cell_type": "code",
      "source": [
        "ratings_melted = rated_movies.melt(id_vars=['Series_Title'],\n",
        "                                   var_name='User',\n",
        "                                   value_name='Rating')\n",
        "print(ratings_melted.head())"
      ],
      "metadata": {
        "colab": {
          "base_uri": "https://localhost:8080/"
        },
        "id": "YKW53cdvK-PE",
        "outputId": "39bf16f0-48e5-4f6f-baca-e354a1eb30c2"
      },
      "execution_count": 19,
      "outputs": [
        {
          "output_type": "stream",
          "name": "stdout",
          "text": [
            "                  Series_Title    User Rating\n",
            "0  The Best Years of Our Lives  User_1      3\n",
            "1    Hedwig and the Angry Inch  User_1      1\n",
            "2                    Gone Girl  User_1      3\n",
            "3                The Red Shoes  User_1      3\n",
            "4              Le Petit Prince  User_1      1\n"
          ]
        }
      ]
    },
    {
      "cell_type": "code",
      "source": [
        "ratings_data = rated_movies[['Series_Title', 'IMDB_Rating', 'User_1', 'User_2', 'User_3']]\n",
        "long_format_ratings = ratings_data.melt(id_vars=['Series_Title', 'IMDB_Rating'],\n",
        "                                        var_name='User_ID',\n",
        "                                        value_name='Rating')\n",
        "from sklearn.preprocessing import LabelEncoder\n",
        "encoder = LabelEncoder()\n",
        "long_format_ratings['Series_Title'] = encoder.fit_transform(long_format_ratings['Series_Title'])\n",
        "print(long_format_ratings.head())"
      ],
      "metadata": {
        "colab": {
          "base_uri": "https://localhost:8080/"
        },
        "id": "CUoAVc2hWUPw",
        "outputId": "6a4e1583-c3b9-4785-dada-d2275209c23c"
      },
      "execution_count": 20,
      "outputs": [
        {
          "output_type": "stream",
          "name": "stdout",
          "text": [
            "   Series_Title  IMDB_Rating User_ID  Rating\n",
            "0            75          8.0  User_1       3\n",
            "1            34          7.7  User_1       1\n",
            "2            31          8.1  User_1       3\n",
            "3            86          8.1  User_1       3\n",
            "4            45          7.7  User_1       1\n"
          ]
        }
      ]
    },
    {
      "cell_type": "code",
      "source": [
        "from surprise import Dataset, Reader\n",
        "from surprise import SVD\n",
        "from surprise.model_selection import train_test_split\n",
        "from surprise import accuracy\n",
        "reader = Reader(rating_scale=(1, 10))\n",
        "data = Dataset.load_from_df(long_format_ratings[['User_ID', 'Series_Title', 'Rating']], reader)\n",
        "trainset, testset = train_test_split(data, test_size=0.2, random_state=42)\n",
        "svd = SVD()\n",
        "svd.fit(trainset)\n",
        "predictions = svd.test(testset)\n",
        "rmse = accuracy.rmse(predictions)\n",
        "print(f'RMSE: {rmse}')"
      ],
      "metadata": {
        "colab": {
          "base_uri": "https://localhost:8080/"
        },
        "id": "uLc2xfoEZkmi",
        "outputId": "0a90b335-8a2c-4d24-cd67-7368729aa9a1"
      },
      "execution_count": 21,
      "outputs": [
        {
          "output_type": "stream",
          "name": "stdout",
          "text": [
            "RMSE: 1.3905\n",
            "RMSE: 1.3904571002648587\n"
          ]
        }
      ]
    },
    {
      "cell_type": "code",
      "source": [
        "from surprise import KNNBasic\n",
        "from surprise import Reader, Dataset\n",
        "from surprise.model_selection import train_test_split\n",
        "from surprise import accuracy"
      ],
      "metadata": {
        "id": "FFpJhYJPZyn9"
      },
      "execution_count": 22,
      "outputs": []
    },
    {
      "cell_type": "code",
      "source": [
        "sim_options = {'name': 'cosine', 'user_based': False}\n",
        "item_based_model = KNNBasic(sim_options=sim_options)\n",
        "item_based_model.fit(trainset)\n",
        "predictions = item_based_model.test(testset)\n",
        "item_based_rmse = accuracy.rmse(predictions)\n",
        "print(f'Item-based Collaborative Filtering RMSE: {item_based_rmse}')"
      ],
      "metadata": {
        "colab": {
          "base_uri": "https://localhost:8080/"
        },
        "id": "pBovPiVnahF5",
        "outputId": "4a6d9894-9035-4ece-e7a6-a3326d1614bc"
      },
      "execution_count": 23,
      "outputs": [
        {
          "output_type": "stream",
          "name": "stdout",
          "text": [
            "Computing the cosine similarity matrix...\n",
            "Done computing similarity matrix.\n",
            "RMSE: 1.3851\n",
            "Item-based Collaborative Filtering RMSE: 1.3850576906023626\n"
          ]
        }
      ]
    },
    {
      "cell_type": "code",
      "source": [
        "item_based_model = KNNBasic(sim_options={'user_based': False})\n",
        "item_based_model.fit(trainset)\n",
        "item_based_rmse = accuracy.rmse(item_based_model.test(testset))\n",
        "print(f'Item-based Collaborative Filtering RMSE: {item_based_rmse}')\n"
      ],
      "metadata": {
        "colab": {
          "base_uri": "https://localhost:8080/"
        },
        "id": "PqpAvuXpanvy",
        "outputId": "11679a38-4330-478e-9009-0a042448fdd7"
      },
      "execution_count": 24,
      "outputs": [
        {
          "output_type": "stream",
          "name": "stdout",
          "text": [
            "Computing the msd similarity matrix...\n",
            "Done computing similarity matrix.\n",
            "RMSE: 1.3937\n",
            "Item-based Collaborative Filtering RMSE: 1.3937084432852125\n"
          ]
        }
      ]
    },
    {
      "cell_type": "code",
      "source": [
        "from surprise import KNNBasic\n",
        "from surprise import Reader, Dataset\n",
        "from surprise.model_selection import train_test_split\n",
        "from surprise import accuracy\n",
        "reader = Reader(rating_scale=(1, 10))\n",
        "data = Dataset.load_from_df(long_format_ratings[['User_ID', 'Series_Title', 'Rating']], reader)\n",
        "trainset, testset = train_test_split(data, test_size=0.2, random_state=42)\n",
        "sim_options = {'name': 'cosine', 'user_based': True}\n",
        "user_based_model = KNNBasic(sim_options=sim_options)\n",
        "user_based_model.fit(trainset)\n",
        "predictions = user_based_model.test(testset)\n",
        "user_based_rmse = accuracy.rmse(predictions)\n",
        "print(f'User-based Collaborative Filtering RMSE: {user_based_rmse}')"
      ],
      "metadata": {
        "colab": {
          "base_uri": "https://localhost:8080/"
        },
        "id": "bFTk-SUVcmta",
        "outputId": "fc7e7b70-8578-4013-ae59-4179fdbe4e05"
      },
      "execution_count": 25,
      "outputs": [
        {
          "output_type": "stream",
          "name": "stdout",
          "text": [
            "Computing the cosine similarity matrix...\n",
            "Done computing similarity matrix.\n",
            "RMSE: 1.9116\n",
            "User-based Collaborative Filtering RMSE: 1.9116458300198642\n"
          ]
        }
      ]
    },
    {
      "cell_type": "code",
      "source": [
        "user_based_rmse = accuracy.rmse(user_based_model.test(testset))\n",
        "print(f'User-based Collaborative Filtering RMSE: {user_based_rmse}')\n",
        "item_based_rmse = accuracy.rmse(item_based_model.test(testset))\n",
        "print(f'Item-based Collaborative Filtering RMSE: {item_based_rmse}')"
      ],
      "metadata": {
        "colab": {
          "base_uri": "https://localhost:8080/"
        },
        "id": "GGn_2kuoctl6",
        "outputId": "2c0e2f90-e20f-4971-936e-25df2f2ebe18"
      },
      "execution_count": 26,
      "outputs": [
        {
          "output_type": "stream",
          "name": "stdout",
          "text": [
            "RMSE: 1.9116\n",
            "User-based Collaborative Filtering RMSE: 1.9116458300198642\n",
            "RMSE: 1.3937\n",
            "Item-based Collaborative Filtering RMSE: 1.3937084432852125\n"
          ]
        }
      ]
    },
    {
      "cell_type": "code",
      "source": [
        "from surprise import SVD\n",
        "svd_model = SVD()\n",
        "svd_model.fit(trainset)\n",
        "svd_rmse = accuracy.rmse(svd_model.test(testset))\n",
        "print(f'SVD Collaborative Filtering RMSE: {svd_rmse}')"
      ],
      "metadata": {
        "colab": {
          "base_uri": "https://localhost:8080/"
        },
        "id": "gr4DxPxMdOoJ",
        "outputId": "2c4e58d6-6267-4bff-ceff-df8215c5ac5d"
      },
      "execution_count": 27,
      "outputs": [
        {
          "output_type": "stream",
          "name": "stdout",
          "text": [
            "RMSE: 1.3922\n",
            "SVD Collaborative Filtering RMSE: 1.3921755504325688\n"
          ]
        }
      ]
    },
    {
      "cell_type": "code",
      "source": [
        "rated_movies = pd.merge(ratings_df, movies_df, on='Series_Title')\n",
        "def get_movie_recommendations(user_id, rated_movies, top_n=5):\n",
        "    all_movies = movies_df['Series_Title'].values\n",
        "    user_ratings = rated_movies[rated_movies[user_id] > 0]\n",
        "    rated_movies_list = user_ratings['Series_Title'].values\n",
        "    unrated_movies = [movie for movie in all_movies if movie not in rated_movies_list]\n",
        "\n",
        "    predictions = []\n",
        "    for movie in unrated_movies:\n",
        "        pred = svd_model.predict(user_id, movie)\n",
        "        predictions.append((movie, pred.est))\n",
        "    predictions.sort(key=lambda x: x[1], reverse=True)\n",
        "    top_movies = predictions[:top_n]\n",
        "\n",
        "    return top_movies\n",
        "user_id = 'User_1'\n",
        "top_movies = get_movie_recommendations(user_id, rated_movies, top_n=5)\n",
        "print(f\"Top 5 Movie Recommendations for {user_id}:\")\n",
        "for movie, rating in top_movies:\n",
        "    print(f\"{movie} (Predicted Rating: {rating:.2f})\")"
      ],
      "metadata": {
        "colab": {
          "base_uri": "https://localhost:8080/"
        },
        "id": "FpJUmJWadWat",
        "outputId": "ba4df924-1384-4c17-d82c-2fa2f77b6125"
      },
      "execution_count": 28,
      "outputs": [
        {
          "output_type": "stream",
          "name": "stdout",
          "text": [
            "Top 5 Movie Recommendations for User_1:\n",
            "The Shawshank Redemption (Predicted Rating: 2.90)\n",
            "The Godfather (Predicted Rating: 2.90)\n",
            "The Dark Knight (Predicted Rating: 2.90)\n",
            "The Godfather: Part II (Predicted Rating: 2.90)\n",
            "12 Angry Men (Predicted Rating: 2.90)\n"
          ]
        }
      ]
    },
    {
      "cell_type": "code",
      "source": [
        "print(f'SVD Collaborative Filtering RMSE: {svd_rmse}')\n",
        "print(f'User-based Collaborative Filtering RMSE: {user_based_rmse}')\n",
        "print(f'Item-based Collaborative Filtering RMSE: {item_based_rmse}')"
      ],
      "metadata": {
        "colab": {
          "base_uri": "https://localhost:8080/"
        },
        "id": "WqbbLrtegpWA",
        "outputId": "15ce37c5-f91c-450e-99ba-0e6bbbd8acc2"
      },
      "execution_count": 29,
      "outputs": [
        {
          "output_type": "stream",
          "name": "stdout",
          "text": [
            "SVD Collaborative Filtering RMSE: 1.3921755504325688\n",
            "User-based Collaborative Filtering RMSE: 1.9116458300198642\n",
            "Item-based Collaborative Filtering RMSE: 1.3937084432852125\n"
          ]
        }
      ]
    },
    {
      "cell_type": "code",
      "source": [
        "print(f\"User-based Collaborative Filtering RMSE: {user_based_rmse}\")\n",
        "print(f\"Item-based Collaborative Filtering RMSE: {item_based_rmse}\")\n",
        "print(f\"SVD Collaborative Filtering RMSE: {svd_rmse}\")\n"
      ],
      "metadata": {
        "id": "iFiyi-sxg2-J",
        "colab": {
          "base_uri": "https://localhost:8080/"
        },
        "outputId": "bba27b5a-a617-46eb-9c4f-0458a47c7809"
      },
      "execution_count": 30,
      "outputs": [
        {
          "output_type": "stream",
          "name": "stdout",
          "text": [
            "User-based Collaborative Filtering RMSE: 1.9116458300198642\n",
            "Item-based Collaborative Filtering RMSE: 1.3937084432852125\n",
            "SVD Collaborative Filtering RMSE: 1.3921755504325688\n"
          ]
        }
      ]
    },
    {
      "cell_type": "code",
      "source": [
        "best_model = min([\n",
        "    ('User-Based', user_based_rmse),\n",
        "    ('Item-Based', item_based_rmse),\n",
        "    ('SVD', svd_rmse)\n",
        "], key=lambda x: x[1])\n",
        "\n",
        "print(f\"The best performing model is: {best_model[0]} with an RMSE of {best_model[1]:.4f}\")\n"
      ],
      "metadata": {
        "colab": {
          "base_uri": "https://localhost:8080/"
        },
        "id": "YDU-V-Yytad2",
        "outputId": "b3f6847b-f2e1-4b61-f4cd-c3102888d22f"
      },
      "execution_count": 31,
      "outputs": [
        {
          "output_type": "stream",
          "name": "stdout",
          "text": [
            "The best performing model is: SVD with an RMSE of 1.3922\n"
          ]
        }
      ]
    },
    {
      "cell_type": "code",
      "source": [
        "def get_movie_recommendations(user_id, model, top_n=5):\n",
        "    all_movies = movies_df['Series_Title'].unique()\n",
        "    global rated_movies\n",
        "    rated_movies_list = rated_movies[rated_movies[user_id] > 0]['Series_Title'].values\n",
        "    unrated_movies = [movie for movie in all_movies if movie not in rated_movies_list]\n",
        "\n",
        "    predictions = [model.predict(user_id, movie) for movie in unrated_movies]\n",
        "    predictions.sort(key=lambda x: x.est, reverse=True)\n",
        "\n",
        "    top_recommendations = [(pred.iid, pred.est) for pred in predictions[:top_n]]\n",
        "    return top_recommendations\n"
      ],
      "metadata": {
        "id": "yFhL_eybtlSq"
      },
      "execution_count": 32,
      "outputs": []
    },
    {
      "cell_type": "code",
      "source": [
        "\n",
        "print(\"### Model Performance Comparison ###\")\n",
        "print(f\"SVD Collaborative Filtering RMSE: {svd_rmse:.4f}\")\n",
        "print(f\"User-based Collaborative Filtering RMSE: {user_based_rmse:.4f}\")\n",
        "print(f\"Item-based Collaborative Filtering RMSE: {item_based_rmse:.4f}\")\n",
        "\n",
        "best_model = min(\n",
        "    [('SVD', svd_rmse), ('User-based', user_based_rmse), ('Item-based', item_based_rmse)],\n",
        "    key=lambda x: x[1]\n",
        ")\n",
        "\n",
        "print(f\"\\nBest performing model: {best_model[0]} with RMSE: {best_model[1]:.4f}\")\n"
      ],
      "metadata": {
        "colab": {
          "base_uri": "https://localhost:8080/"
        },
        "id": "dn9ZtTK_t_CH",
        "outputId": "78437ed1-c9dd-4380-f11f-3d859b370de3"
      },
      "execution_count": 33,
      "outputs": [
        {
          "output_type": "stream",
          "name": "stdout",
          "text": [
            "### Model Performance Comparison ###\n",
            "SVD Collaborative Filtering RMSE: 1.3922\n",
            "User-based Collaborative Filtering RMSE: 1.9116\n",
            "Item-based Collaborative Filtering RMSE: 1.3937\n",
            "\n",
            "Best performing model: SVD with RMSE: 1.3922\n"
          ]
        }
      ]
    },
    {
      "cell_type": "code",
      "source": [
        "user_input_movies = ['Avengers', 'Inception', 'Titanic']\n"
      ],
      "metadata": {
        "id": "xjP0DRiKxDe7"
      },
      "execution_count": 34,
      "outputs": []
    },
    {
      "cell_type": "code",
      "source": [
        "unseen_movies = movies_df[~movies_df['Series_Title'].isin(user_input_movies)]\n"
      ],
      "metadata": {
        "id": "CNrENytNxJpB"
      },
      "execution_count": 35,
      "outputs": []
    },
    {
      "cell_type": "code",
      "source": [
        "user_ratings = rated_movies[rated_movies['Series_Title'].isin(user_input_movies)]\n",
        "\n",
        "unseen_movie_predictions = []\n",
        "\n",
        "for index, movie in unseen_movies.iterrows():\n",
        "    movie_title = movie['Series_Title']\n",
        "    movie_id = movie['Series_Title']\n",
        "\n",
        "\n",
        "    prediction = svd_model.predict('User_1', movie_id)\n",
        "    unseen_movie_predictions.append((movie_title, prediction.est))\n",
        "\n",
        "unseen_movie_predictions.sort(key=lambda x: x[1], reverse=True)\n",
        "\n",
        "top_recommended_movies = unseen_movie_predictions[:5]\n",
        "\n",
        "print(\"Top Recommended Movies for User 1:\")\n",
        "for movie, rating in top_recommended_movies:\n",
        "    print(f\"Movie: {movie}, Predicted Rating: {rating}\")\n"
      ],
      "metadata": {
        "colab": {
          "base_uri": "https://localhost:8080/"
        },
        "id": "QdCTzvUIxNbP",
        "outputId": "0c8daa93-1fb5-4780-cd57-f9c50f08c8b8"
      },
      "execution_count": 36,
      "outputs": [
        {
          "output_type": "stream",
          "name": "stdout",
          "text": [
            "Top Recommended Movies for User 1:\n",
            "Movie: The Shawshank Redemption, Predicted Rating: 2.8984102480255904\n",
            "Movie: The Godfather, Predicted Rating: 2.8984102480255904\n",
            "Movie: The Dark Knight, Predicted Rating: 2.8984102480255904\n",
            "Movie: The Godfather: Part II, Predicted Rating: 2.8984102480255904\n",
            "Movie: 12 Angry Men, Predicted Rating: 2.8984102480255904\n"
          ]
        }
      ]
    },
    {
      "cell_type": "code",
      "source": [
        "def recommend_movies(user_input_movies, model=svd_model, top_n=5):\n",
        "    import surprise\n",
        "    import numpy as np\n",
        "    dummy_ratings = {movie: np.random.randint(1, 6) for movie in user_input_movies}\n",
        "    user_ratings = pd.DataFrame(list(dummy_ratings.items()), columns=['Series_Title', 'Rating'])\n",
        "    rated_movies = pd.merge(user_ratings, movies_df[['Series_Title']], on='Series_Title', how='left')"
      ],
      "metadata": {
        "id": "35dHt9rs0st7"
      },
      "execution_count": 38,
      "outputs": []
    },
    {
      "cell_type": "code",
      "source": [
        "import surprise # Import surprise at the top level\n",
        "import numpy as np\n",
        "\n",
        "def recommend_movies(user_input_movies, model=svd_model, top_n=5):\n",
        "\n",
        "    dummy_ratings = {movie: np.random.randint(1, 6) for movie in user_input_movies}\n",
        "    user_ratings = pd.DataFrame(list(dummy_ratings.items()), columns=['Series_Title', 'Rating'])\n",
        "    rated_movies = pd.merge(user_ratings, movies_df[['Series_Title']], on='Series_Title', how='left')\n",
        "\n",
        "    rated_movies['User_ID'] = 'User_1'\n",
        "    reader = surprise.Reader(rating_scale=(1, 5))\n",
        "    trainset = surprise.Dataset.load_from_df(rated_movies[['User_ID', 'Series_Title', 'Rating']], reader)\n",
        "    trainset = trainset.build_full_trainset()\n",
        "    model.fit(trainset)\n",
        "    unseen_movies = movies_df[~movies_df['Series_Title'].isin(user_input_movies)]\n",
        "    unseen_movie_predictions = []\n",
        "\n",
        "    for index, movie in unseen_movies.iterrows():\n",
        "        movie_title = movie['Series_Title']\n",
        "        prediction = model.predict('User_1', movie_title)\n",
        "        unseen_movie_predictions.append((movie_title, prediction.est))\n",
        "\n",
        "    unseen_movie_predictions.sort(key=lambda x: x[1], reverse=True)\n",
        "\n",
        "    top_recommended_movies = unseen_movie_predictions[:top_n]\n",
        "\n",
        "    print(f\"Top {top_n} Recommended Movies:\")\n",
        "    for movie, rating in top_recommended_movies:\n",
        "        print(f\"Movie: {movie}, Predicted Rating: {rating}\")\n",
        "\n",
        "recommend_movies(['Harry Potter', 'Titanic', 'Love Actually'])"
      ],
      "metadata": {
        "colab": {
          "base_uri": "https://localhost:8080/"
        },
        "id": "cza3sCVh2ZHx",
        "outputId": "e92f8a87-4c99-49ae-c55a-0dc7cfb7cf38"
      },
      "execution_count": 40,
      "outputs": [
        {
          "output_type": "stream",
          "name": "stdout",
          "text": [
            "Top 5 Recommended Movies:\n",
            "Movie: The Shawshank Redemption, Predicted Rating: 1.6702871090746352\n",
            "Movie: The Godfather, Predicted Rating: 1.6702871090746352\n",
            "Movie: The Dark Knight, Predicted Rating: 1.6702871090746352\n",
            "Movie: The Godfather: Part II, Predicted Rating: 1.6702871090746352\n",
            "Movie: 12 Angry Men, Predicted Rating: 1.6702871090746352\n"
          ]
        }
      ]
    },
    {
      "cell_type": "code",
      "source": [
        "recommend_movies(['The Lord of the Rings', 'Amélie', 'Love Actually'])\n"
      ],
      "metadata": {
        "colab": {
          "base_uri": "https://localhost:8080/"
        },
        "id": "oJRdYhQV2dVM",
        "outputId": "9b07d6a8-df94-4c13-c0af-c7296a4bf14b"
      },
      "execution_count": 41,
      "outputs": [
        {
          "output_type": "stream",
          "name": "stdout",
          "text": [
            "Top 5 Recommended Movies:\n",
            "Movie: The Shawshank Redemption, Predicted Rating: 4.347379120379825\n",
            "Movie: The Godfather, Predicted Rating: 4.347379120379825\n",
            "Movie: The Dark Knight, Predicted Rating: 4.347379120379825\n",
            "Movie: The Godfather: Part II, Predicted Rating: 4.347379120379825\n",
            "Movie: 12 Angry Men, Predicted Rating: 4.347379120379825\n"
          ]
        }
      ]
    },
    {
      "cell_type": "code",
      "source": [
        "from sklearn.feature_extraction.text import TfidfVectorizer\n",
        "from sklearn.metrics.pairwise import cosine_similarity\n",
        "\n",
        "movies_df['movie_profile'] = movies_df['Genre'] + \" \" + movies_df['Director']\n",
        "tfidf_vectorizer = TfidfVectorizer(stop_words='english')\n",
        "tfidf_matrix = tfidf_vectorizer.fit_transform(movies_df['movie_profile'])\n",
        "\n",
        "cosine_sim = cosine_similarity(tfidf_matrix, tfidf_matrix)\n"
      ],
      "metadata": {
        "id": "T29CJ8ez55vB"
      },
      "execution_count": 42,
      "outputs": []
    },
    {
      "cell_type": "code",
      "source": [
        "from sklearn.feature_extraction.text import TfidfVectorizer\n",
        "from sklearn.metrics.pairwise import cosine_similarity\n",
        "\n",
        "vectorizer = TfidfVectorizer(stop_words='english')\n",
        "movie_profile_matrix = vectorizer.fit_transform(movies_df['movie_profile'])\n",
        "\n",
        "cosine_similarities = cosine_similarity(movie_profile_matrix, movie_profile_matrix)\n",
        "\n",
        "cosine_sim_df = pd.DataFrame(cosine_similarities, index=movies_df['Series_Title'], columns=movies_df['Series_Title'])\n",
        "\n",
        "print(cosine_sim_df.head())\n"
      ],
      "metadata": {
        "colab": {
          "base_uri": "https://localhost:8080/"
        },
        "id": "c1Y4mEvb6-ns",
        "outputId": "550c4934-c8f5-404e-b4ad-0e61a3c99217"
      },
      "execution_count": 43,
      "outputs": [
        {
          "output_type": "stream",
          "name": "stdout",
          "text": [
            "Series_Title              The Shawshank Redemption  The Godfather  \\\n",
            "Series_Title                                                        \n",
            "The Shawshank Redemption                  1.000000       0.018572   \n",
            "The Godfather                             0.018572       1.000000   \n",
            "The Dark Knight                           0.021821       0.090471   \n",
            "The Godfather: Part II                    0.018572       1.000000   \n",
            "12 Angry Men                              0.021186       0.087841   \n",
            "\n",
            "Series_Title              The Dark Knight  The Godfather: Part II  \\\n",
            "Series_Title                                                        \n",
            "The Shawshank Redemption         0.021821                0.018572   \n",
            "The Godfather                    0.090471                1.000000   \n",
            "The Dark Knight                  1.000000                0.090471   \n",
            "The Godfather: Part II           0.090471                1.000000   \n",
            "12 Angry Men                     0.103209                0.087841   \n",
            "\n",
            "Series_Title              12 Angry Men  \\\n",
            "Series_Title                             \n",
            "The Shawshank Redemption      0.021186   \n",
            "The Godfather                 0.087841   \n",
            "The Dark Knight               0.103209   \n",
            "The Godfather: Part II        0.087841   \n",
            "12 Angry Men                  1.000000   \n",
            "\n",
            "Series_Title              The Lord of the Rings: The Return of the King  \\\n",
            "Series_Title                                                              \n",
            "The Shawshank Redemption                                       0.021265   \n",
            "The Godfather                                                  0.018521   \n",
            "The Dark Knight                                                0.109784   \n",
            "The Godfather: Part II                                         0.018521   \n",
            "12 Angry Men                                                   0.021129   \n",
            "\n",
            "Series_Title              Pulp Fiction  Schindler's List  Inception  \\\n",
            "Series_Title                                                          \n",
            "The Shawshank Redemption      0.022525          0.021364   0.000000   \n",
            "The Godfather                 0.093393          0.018607   0.000000   \n",
            "The Dark Knight               0.109731          0.021862   0.775319   \n",
            "The Godfather: Part II        0.093393          0.018607   0.000000   \n",
            "12 Angry Men                  0.106542          0.021227   0.000000   \n",
            "\n",
            "Series_Title              Fight Club  ...  Giù la testa  Kelly's Heroes  \\\n",
            "Series_Title                          ...                                 \n",
            "The Shawshank Redemption    0.026054  ...      0.018372             0.0   \n",
            "The Godfather               0.022693  ...      0.016002             0.0   \n",
            "The Dark Knight             0.026663  ...      0.018801             0.0   \n",
            "The Godfather: Part II      0.022693  ...      0.016002             0.0   \n",
            "12 Angry Men                0.025888  ...      0.018254             0.0   \n",
            "\n",
            "Series_Title              The Jungle Book    Blowup  A Hard Day's Night  \\\n",
            "Series_Title                                                              \n",
            "The Shawshank Redemption              0.0  0.018067                 0.0   \n",
            "The Godfather                         0.0  0.015736                 0.0   \n",
            "The Dark Knight                       0.0  0.018489                 0.0   \n",
            "The Godfather: Part II                0.0  0.015736                 0.0   \n",
            "12 Angry Men                          0.0  0.017951                 0.0   \n",
            "\n",
            "Series_Title              Breakfast at Tiffany's     Giant  \\\n",
            "Series_Title                                                 \n",
            "The Shawshank Redemption                0.017966  0.018899   \n",
            "The Godfather                           0.015648  0.016460   \n",
            "The Dark Knight                         0.018386  0.019340   \n",
            "The Godfather: Part II                  0.015648  0.016460   \n",
            "12 Angry Men                            0.017852  0.018778   \n",
            "\n",
            "Series_Title              From Here to Eternity  Lifeboat  The 39 Steps  \n",
            "Series_Title                                                             \n",
            "The Shawshank Redemption               0.018748  0.022850      0.000000  \n",
            "The Godfather                          0.016329  0.019902      0.070513  \n",
            "The Dark Knight                        0.019186  0.023383      0.082848  \n",
            "The Godfather: Part II                 0.016329  0.019902      0.070513  \n",
            "12 Angry Men                           0.018628  0.022704      0.080441  \n",
            "\n",
            "[5 rows x 999 columns]\n"
          ]
        }
      ]
    },
    {
      "cell_type": "code",
      "source": [
        "def recommend_movies(user_input_movies, cosine_sim_df, top_n=5):\n",
        "\n",
        "    recommended_movies = []\n",
        "\n",
        "    for movie in user_input_movies:\n",
        "\n",
        "        if movie in cosine_sim_df.index:\n",
        "\n",
        "            sim_scores = cosine_sim_df[movie].sort_values(ascending=False)\n",
        "\n",
        "\n",
        "            sim_scores = sim_scores[~sim_scores.index.isin(user_input_movies)]\n",
        "\n",
        "\n",
        "            top_recommendations = sim_scores.head(top_n)\n",
        "            recommended_movies.extend(top_recommendations.index.tolist())\n",
        "\n",
        "\n",
        "    recommended_movies = list(set(recommended_movies))\n",
        "\n",
        "\n",
        "    return recommended_movies[:top_n]\n"
      ],
      "metadata": {
        "id": "Nrgw3WLdYjL5"
      },
      "execution_count": 52,
      "outputs": []
    },
    {
      "cell_type": "code",
      "source": [
        "user_input_movies = ['The Incredibles', 'Boogie Nights', 'There Will Be Blood', 'Mononoke-hime', 'Dancer in the Dark']  # Example list of movies you like\n",
        "\n",
        "top_recommended_movies = recommend_movies(user_input_movies, cosine_sim_df, top_n=5)\n",
        "\n",
        "\n",
        "print(\"Top Recommended Movies (New Recommendations Only):\")\n",
        "for movie in top_recommended_movies:\n",
        "    print(movie)\n"
      ],
      "metadata": {
        "colab": {
          "base_uri": "https://localhost:8080/"
        },
        "id": "Y_EzC6yAYnkt",
        "outputId": "9bed3561-fd31-4f55-d54f-2ec00724b055"
      },
      "execution_count": 53,
      "outputs": [
        {
          "output_type": "stream",
          "name": "stdout",
          "text": [
            "Top Recommended Movies (New Recommendations Only):\n",
            "Tenkû no shiro Rapyuta\n",
            "The Lives of Others\n",
            "Incredibles 2\n",
            "Kaze no tani no Naushika\n",
            "Druk\n"
          ]
        }
      ]
    },
    {
      "cell_type": "code",
      "source": [
        "user_input_movies = ['Magnolia', 'Dogville', 'The Incredibles']\n",
        "top_recommended_movies = recommend_movies(user_input_movies, cosine_sim_df, top_n=5)\n",
        "\n",
        "print(\"Top Recommended Movies:\")\n",
        "for movie in top_recommended_movies:\n",
        "    print(movie)"
      ],
      "metadata": {
        "colab": {
          "base_uri": "https://localhost:8080/"
        },
        "id": "uDqPqEj58BjX",
        "outputId": "75f1a0e3-8bd2-4c61-e158-ae09cccc278e"
      },
      "execution_count": 51,
      "outputs": [
        {
          "output_type": "stream",
          "name": "stdout",
          "text": [
            "Top Recommended Movies:\n",
            "Boogie Nights\n",
            "There Will Be Blood\n",
            "Mononoke-hime\n",
            "Dancer in the Dark\n",
            "The Machinist\n"
          ]
        }
      ]
    },
    {
      "cell_type": "code",
      "source": [
        "pip install transformers huggingface_hub\n"
      ],
      "metadata": {
        "id": "QikOp-34Vhfg",
        "colab": {
          "base_uri": "https://localhost:8080/"
        },
        "outputId": "5a54e1aa-65a1-4ea1-a62b-11194b76253d"
      },
      "execution_count": 54,
      "outputs": [
        {
          "output_type": "stream",
          "name": "stdout",
          "text": [
            "Requirement already satisfied: transformers in /usr/local/lib/python3.11/dist-packages (4.47.1)\n",
            "Requirement already satisfied: huggingface_hub in /usr/local/lib/python3.11/dist-packages (0.27.1)\n",
            "Requirement already satisfied: filelock in /usr/local/lib/python3.11/dist-packages (from transformers) (3.17.0)\n",
            "Requirement already satisfied: numpy>=1.17 in /usr/local/lib/python3.11/dist-packages (from transformers) (1.26.4)\n",
            "Requirement already satisfied: packaging>=20.0 in /usr/local/lib/python3.11/dist-packages (from transformers) (24.2)\n",
            "Requirement already satisfied: pyyaml>=5.1 in /usr/local/lib/python3.11/dist-packages (from transformers) (6.0.2)\n",
            "Requirement already satisfied: regex!=2019.12.17 in /usr/local/lib/python3.11/dist-packages (from transformers) (2024.11.6)\n",
            "Requirement already satisfied: requests in /usr/local/lib/python3.11/dist-packages (from transformers) (2.32.3)\n",
            "Requirement already satisfied: tokenizers<0.22,>=0.21 in /usr/local/lib/python3.11/dist-packages (from transformers) (0.21.0)\n",
            "Requirement already satisfied: safetensors>=0.4.1 in /usr/local/lib/python3.11/dist-packages (from transformers) (0.5.2)\n",
            "Requirement already satisfied: tqdm>=4.27 in /usr/local/lib/python3.11/dist-packages (from transformers) (4.67.1)\n",
            "Requirement already satisfied: fsspec>=2023.5.0 in /usr/local/lib/python3.11/dist-packages (from huggingface_hub) (2024.10.0)\n",
            "Requirement already satisfied: typing-extensions>=3.7.4.3 in /usr/local/lib/python3.11/dist-packages (from huggingface_hub) (4.12.2)\n",
            "Requirement already satisfied: charset-normalizer<4,>=2 in /usr/local/lib/python3.11/dist-packages (from requests->transformers) (3.4.1)\n",
            "Requirement already satisfied: idna<4,>=2.5 in /usr/local/lib/python3.11/dist-packages (from requests->transformers) (3.10)\n",
            "Requirement already satisfied: urllib3<3,>=1.21.1 in /usr/local/lib/python3.11/dist-packages (from requests->transformers) (2.3.0)\n",
            "Requirement already satisfied: certifi>=2017.4.17 in /usr/local/lib/python3.11/dist-packages (from requests->transformers) (2024.12.14)\n"
          ]
        }
      ]
    },
    {
      "cell_type": "code",
      "source": [
        "!huggingface-cli login"
      ],
      "metadata": {
        "colab": {
          "base_uri": "https://localhost:8080/"
        },
        "id": "TSQUAxBPZWFL",
        "outputId": "bec63b96-e120-4d4d-fa4c-cd092a6a7142"
      },
      "execution_count": 56,
      "outputs": [
        {
          "output_type": "stream",
          "name": "stdout",
          "text": [
            "\n",
            "    _|    _|  _|    _|    _|_|_|    _|_|_|  _|_|_|  _|      _|    _|_|_|      _|_|_|_|    _|_|      _|_|_|  _|_|_|_|\n",
            "    _|    _|  _|    _|  _|        _|          _|    _|_|    _|  _|            _|        _|    _|  _|        _|\n",
            "    _|_|_|_|  _|    _|  _|  _|_|  _|  _|_|    _|    _|  _|  _|  _|  _|_|      _|_|_|    _|_|_|_|  _|        _|_|_|\n",
            "    _|    _|  _|    _|  _|    _|  _|    _|    _|    _|    _|_|  _|    _|      _|        _|    _|  _|        _|\n",
            "    _|    _|    _|_|      _|_|_|    _|_|_|  _|_|_|  _|      _|    _|_|_|      _|        _|    _|    _|_|_|  _|_|_|_|\n",
            "\n",
            "    To log in, `huggingface_hub` requires a token generated from https://huggingface.co/settings/tokens .\n",
            "Enter your token (input will not be visible): Traceback (most recent call last):\n",
            "  File \"/usr/local/bin/huggingface-cli\", line 8, in <module>\n",
            "    sys.exit(main())\n",
            "             ^^^^^^\n",
            "  File \"/usr/local/lib/python3.11/dist-packages/huggingface_hub/commands/huggingface_cli.py\", line 57, in main\n",
            "    service.run()\n",
            "  File \"/usr/local/lib/python3.11/dist-packages/huggingface_hub/commands/user.py\", line 153, in run\n",
            "    login(\n",
            "  File \"/usr/local/lib/python3.11/dist-packages/huggingface_hub/utils/_deprecation.py\", line 101, in inner_f\n",
            "    return f(*args, **kwargs)\n",
            "           ^^^^^^^^^^^^^^^^^^\n",
            "  File \"/usr/local/lib/python3.11/dist-packages/huggingface_hub/utils/_deprecation.py\", line 31, in inner_f\n",
            "    return f(*args, **kwargs)\n",
            "           ^^^^^^^^^^^^^^^^^^\n",
            "  File \"/usr/local/lib/python3.11/dist-packages/huggingface_hub/_login.py\", line 130, in login\n",
            "    interpreter_login(new_session=new_session)\n",
            "  File \"/usr/local/lib/python3.11/dist-packages/huggingface_hub/utils/_deprecation.py\", line 101, in inner_f\n",
            "    return f(*args, **kwargs)\n",
            "           ^^^^^^^^^^^^^^^^^^\n",
            "  File \"/usr/local/lib/python3.11/dist-packages/huggingface_hub/utils/_deprecation.py\", line 31, in inner_f\n",
            "    return f(*args, **kwargs)\n",
            "           ^^^^^^^^^^^^^^^^^^\n",
            "  File \"/usr/local/lib/python3.11/dist-packages/huggingface_hub/_login.py\", line 287, in interpreter_login\n",
            "    token = getpass(\"Enter your token (input will not be visible): \")\n",
            "            ^^^^^^^^^^^^^^^^^^^^^^^^^^^^^^^^^^^^^^^^^^^^^^^^^^^^^^^^^\n",
            "  File \"/usr/lib/python3.11/getpass.py\", line 77, in unix_getpass\n",
            "  File \"/usr/lib/python3.11/getpass.py\", line 146, in _raw_input\n",
            "    line = input.readline()\n",
            "           ^^^^^^^^^^^^^^^^\n",
            "KeyboardInterrupt\n",
            "^C\n"
          ]
        }
      ]
    },
    {
      "cell_type": "code",
      "source": [
        "import joblib\n",
        "\n",
        "joblib.dump(svd_model, 'svd_model.pkl')\n"
      ],
      "metadata": {
        "colab": {
          "base_uri": "https://localhost:8080/"
        },
        "id": "OkBLHMgSad3u",
        "outputId": "2fc3d8ed-27c2-4fe8-9c07-7f4ec083dd61"
      },
      "execution_count": 58,
      "outputs": [
        {
          "output_type": "execute_result",
          "data": {
            "text/plain": [
              "['svd_model.pkl']"
            ]
          },
          "metadata": {},
          "execution_count": 58
        }
      ]
    },
    {
      "cell_type": "code",
      "source": [
        "svd_model = joblib.load('svd_model.pkl')\n"
      ],
      "metadata": {
        "id": "b87zLDLGbMe-"
      },
      "execution_count": 59,
      "outputs": []
    },
    {
      "cell_type": "code",
      "source": [
        "path_or_fileobj = \"/content/svd_model.pkl\"\n"
      ],
      "metadata": {
        "id": "2OaC7XIXimHY"
      },
      "execution_count": 67,
      "outputs": []
    },
    {
      "cell_type": "code",
      "source": [
        "path_in_repo = \"svd_model.pkl\"\n"
      ],
      "metadata": {
        "id": "swLUaE1vinZ0"
      },
      "execution_count": 68,
      "outputs": []
    },
    {
      "cell_type": "code",
      "source": [
        "repo_id = \"JuliaBiwan/movie_recommendations\"\n"
      ],
      "metadata": {
        "id": "vpByj0rFixo8"
      },
      "execution_count": 69,
      "outputs": []
    },
    {
      "cell_type": "code",
      "source": [
        "from huggingface_hub import login\n",
        "\n",
        "login()\n"
      ],
      "metadata": {
        "colab": {
          "base_uri": "https://localhost:8080/",
          "height": 17,
          "referenced_widgets": [
            "8910c77069a447c68f688b06934a6b5b",
            "8966e0e3900542cb8cd762385ff5fd0f",
            "0849c2ef8147495ea73f8484a3db6f02",
            "bffffdb73c454d7d8b3c8832d7fff487",
            "79966d19159045648c80b8be373ffde6",
            "82b8e28eb56148bf8093755a31949bd8",
            "d327743b12934c65bd081bf9f846cb1c",
            "3cdc5fc389c846e3a7af4a66ea5107a1",
            "3d1d7914e7194c169414dbe2a850c871",
            "aa7f20e565cc429786e8fdee155a882d",
            "9896fa53ee024711b7d8ae9a053c6742",
            "087a7804744d4be5868b93f7c41bdb92",
            "47a41d6db32e40ec9ea55cd9029f4667",
            "4886561519594f3084ea7b8820034a6a",
            "7708dbe24c084d64b44362c67da48855",
            "75f9ba59d3644239ad453ad81530c0ba",
            "5c70662cb5144abebf318b1170ab0534",
            "106be7b4878946d8b5d63ed66c1a3b74",
            "4696b8a831914e56a9cf9980914bec43",
            "af76db006d004a6389cb3fd5d1cfe61d"
          ]
        },
        "id": "yhqiUItRjSyH",
        "outputId": "472338fa-1a81-4685-db06-3700dac53fa1"
      },
      "execution_count": 72,
      "outputs": [
        {
          "output_type": "display_data",
          "data": {
            "text/plain": [
              "VBox(children=(HTML(value='<center> <img\\nsrc=https://huggingface.co/front/assets/huggingface_logo-noborder.sv…"
            ],
            "application/vnd.jupyter.widget-view+json": {
              "version_major": 2,
              "version_minor": 0,
              "model_id": "8910c77069a447c68f688b06934a6b5b"
            }
          },
          "metadata": {}
        }
      ]
    },
    {
      "cell_type": "code",
      "source": [
        "from huggingface_hub import HfApi\n",
        "\n",
        "api = HfApi()\n",
        "\n",
        "api.upload_file(\n",
        "    path_or_fileobj=\"/content/svd_model.pkl\",\n",
        "    path_in_repo=\"svd_model.pkl\",\n",
        "    repo_id=\"JuliaBiwan/movie_recomendations\",\n",
        ")"
      ],
      "metadata": {
        "colab": {
          "base_uri": "https://localhost:8080/",
          "height": 173,
          "referenced_widgets": [
            "555f326db1fa4f6ebd38a6eae31216d0",
            "7474973c56eb43b2b50143f427479cf5",
            "90e5a16ab2b74529836e06b603107e31",
            "d268bd030c4d4064890d9551cf87a62f",
            "fad03b68733348f484071066f96c5193",
            "66b906b55ae9403187c73090709ab1d3",
            "6cfcab7c2bd044e49efaaac3dadd1303",
            "59c3fb2ea71a457c83205fff943c4e1a",
            "1416489426d94cd191828446eeae8ab9",
            "7ea88b60ed80442dbf8a3a742b15c745",
            "53cc941fc84b49e7815ba8ffc1925424"
          ]
        },
        "id": "cw0ho5uEj_a1",
        "outputId": "722b07f6-d480-4f1c-c7d3-3b73975e7c9d"
      },
      "execution_count": 75,
      "outputs": [
        {
          "output_type": "display_data",
          "data": {
            "text/plain": [
              "svd_model.pkl:   0%|          | 0.00/4.51k [00:00<?, ?B/s]"
            ],
            "application/vnd.jupyter.widget-view+json": {
              "version_major": 2,
              "version_minor": 0,
              "model_id": "555f326db1fa4f6ebd38a6eae31216d0"
            }
          },
          "metadata": {}
        },
        {
          "output_type": "execute_result",
          "data": {
            "text/plain": [
              "CommitInfo(commit_url='https://huggingface.co/JuliaBiwan/movie_recomendations/commit/8d01df0459a3994549d82fcc9fe3869cdc82c177', commit_message='Upload svd_model.pkl with huggingface_hub', commit_description='', oid='8d01df0459a3994549d82fcc9fe3869cdc82c177', pr_url=None, repo_url=RepoUrl('https://huggingface.co/JuliaBiwan/movie_recomendations', endpoint='https://huggingface.co', repo_type='model', repo_id='JuliaBiwan/movie_recomendations'), pr_revision=None, pr_num=None)"
            ],
            "application/vnd.google.colaboratory.intrinsic+json": {
              "type": "string"
            }
          },
          "metadata": {},
          "execution_count": 75
        }
      ]
    },
    {
      "cell_type": "code",
      "source": [
        "from huggingface_hub import HfApi\n",
        "\n",
        "api = HfApi()\n",
        "\n",
        "api.create_repo(repo_id=\"JuliaBiwan/movie_recommendations\", exist_ok=True)\n",
        "\n"
      ],
      "metadata": {
        "colab": {
          "base_uri": "https://localhost:8080/",
          "height": 52
        },
        "id": "NTpEGKaAklAD",
        "outputId": "665aa83d-6647-4bbc-ac3e-9415796e0e46"
      },
      "execution_count": 81,
      "outputs": [
        {
          "output_type": "execute_result",
          "data": {
            "text/plain": [
              "RepoUrl('https://huggingface.co/JuliaBiwan/movie_recommendations', endpoint='https://huggingface.co', repo_type='model', repo_id='JuliaBiwan/movie_recommendations')"
            ],
            "application/vnd.google.colaboratory.intrinsic+json": {
              "type": "string"
            }
          },
          "metadata": {},
          "execution_count": 81
        }
      ]
    },
    {
      "cell_type": "code",
      "source": [
        "api.upload_file(\n",
        "    path_or_fileobj=tmp_file_path,\n",
        "    path_in_repo=\"README.md\",\n",
        "    repo_id=\"JuliaBiwan/movie_recommendations\",\n",
        ")\n"
      ],
      "metadata": {
        "colab": {
          "base_uri": "https://localhost:8080/",
          "height": 176
        },
        "id": "iUeJcB9ul1h9",
        "outputId": "4d9ae7aa-2434-43b5-f6e1-59d620338bf1"
      },
      "execution_count": 83,
      "outputs": [
        {
          "output_type": "stream",
          "name": "stderr",
          "text": [
            "No files have been modified since last commit. Skipping to prevent empty commit.\n",
            "WARNING:huggingface_hub.hf_api:No files have been modified since last commit. Skipping to prevent empty commit.\n"
          ]
        },
        {
          "output_type": "execute_result",
          "data": {
            "text/plain": [
              "CommitInfo(commit_url='https://huggingface.co/JuliaBiwan/movie_recommendations/commit/ac0029d5e7255c9d2a28817f6ab8b509061c9229', commit_message='Upload README.md with huggingface_hub', commit_description='', oid='ac0029d5e7255c9d2a28817f6ab8b509061c9229', pr_url=None, repo_url=RepoUrl('https://huggingface.co/JuliaBiwan/movie_recommendations', endpoint='https://huggingface.co', repo_type='model', repo_id='JuliaBiwan/movie_recommendations'), pr_revision=None, pr_num=None)"
            ],
            "application/vnd.google.colaboratory.intrinsic+json": {
              "type": "string"
            }
          },
          "metadata": {},
          "execution_count": 83
        }
      ]
    }
  ]
}